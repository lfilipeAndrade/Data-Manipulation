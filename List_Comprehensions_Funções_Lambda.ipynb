{
  "nbformat": 4,
  "nbformat_minor": 0,
  "metadata": {
    "anaconda-cloud": {},
    "kernelspec": {
      "display_name": "Python 3",
      "language": "python",
      "name": "python3"
    },
    "language_info": {
      "codemirror_mode": {
        "name": "ipython",
        "version": 3
      },
      "file_extension": ".py",
      "mimetype": "text/x-python",
      "name": "python",
      "nbconvert_exporter": "python",
      "pygments_lexer": "ipython3",
      "version": "3.6.1"
    },
    "colab": {
      "name": "List_Comprehensions-Funções_Lambda.ipynb",
      "provenance": [],
      "include_colab_link": true
    }
  },
  "cells": [
    {
      "cell_type": "markdown",
      "metadata": {
        "id": "view-in-github",
        "colab_type": "text"
      },
      "source": [
        "<a href=\"https://colab.research.google.com/github/lfilipeAndrade/Data-Manipulation/blob/main/List_Comprehensions_Fun%C3%A7%C3%B5es_Lambda.ipynb\" target=\"_parent\"><img src=\"https://colab.research.google.com/assets/colab-badge.svg\" alt=\"Open In Colab\"/></a>"
      ]
    },
    {
      "cell_type": "markdown",
      "metadata": {
        "id": "dlG2QugaYWZh"
      },
      "source": [
        "## List Comprehension"
      ]
    },
    {
      "cell_type": "markdown",
      "metadata": {
        "id": "R4TMJb_0YWZi"
      },
      "source": [
        "A utilização de list comprehension em Python é muito comum. List comprehension é a forma que Python utiliza para realizar filtros e mapeamentos, semelhante ao que vimos com as funções filter() e map()."
      ]
    },
    {
      "cell_type": "code",
      "metadata": {
        "collapsed": true,
        "id": "fwb2KDtiYWZi"
      },
      "source": [
        "# Definindo um array com a função bulti-in range()\n",
        "array1 = range(0, 15)"
      ],
      "execution_count": null,
      "outputs": []
    },
    {
      "cell_type": "code",
      "metadata": {
        "id": "ys6ZuEv1YWZj",
        "outputId": "b1471b68-7866-40cb-fb31-d4d5acc6089c"
      },
      "source": [
        "print(array1)"
      ],
      "execution_count": null,
      "outputs": [
        {
          "name": "stdout",
          "output_type": "stream",
          "text": [
            "range(0, 15)\n"
          ]
        }
      ]
    },
    {
      "cell_type": "code",
      "metadata": {
        "id": "UF499KEUYWZk",
        "outputId": "b7fefa5f-e9c4-443c-be39-d5accada7305"
      },
      "source": [
        "type(array1)"
      ],
      "execution_count": null,
      "outputs": [
        {
          "data": {
            "text/plain": [
              "range"
            ]
          },
          "execution_count": 3,
          "metadata": {},
          "output_type": "execute_result"
        }
      ]
    },
    {
      "cell_type": "code",
      "metadata": {
        "id": "E1XFS8u_YWZl",
        "outputId": "0725e140-669f-4d0e-b632-ef16c4aa0d50"
      },
      "source": [
        "# Aplicando list comprehension\n",
        "[item ** 3 for item in array1]"
      ],
      "execution_count": null,
      "outputs": [
        {
          "data": {
            "text/plain": [
              "[0, 1, 8, 27, 64, 125, 216, 343, 512, 729, 1000, 1331, 1728, 2197, 2744]"
            ]
          },
          "execution_count": 4,
          "metadata": {},
          "output_type": "execute_result"
        }
      ]
    },
    {
      "cell_type": "code",
      "metadata": {
        "id": "Buh9RvMqYWZm",
        "outputId": "53f9a655-1313-419e-bcba-0225a4b3fdec"
      },
      "source": [
        "[item for item in array1 if item % 2 == 0]"
      ],
      "execution_count": null,
      "outputs": [
        {
          "data": {
            "text/plain": [
              "[0, 2, 4, 6, 8, 10, 12, 14]"
            ]
          },
          "execution_count": 5,
          "metadata": {},
          "output_type": "execute_result"
        }
      ]
    },
    {
      "cell_type": "code",
      "metadata": {
        "id": "DooXiBPqYWZn",
        "outputId": "c45136ca-1b69-44b6-a27b-04cefcba5e90"
      },
      "source": [
        "[item ** 2 for item in array1 if item % 2 == 0]"
      ],
      "execution_count": null,
      "outputs": [
        {
          "data": {
            "text/plain": [
              "[0, 4, 16, 36, 64, 100, 144, 196]"
            ]
          },
          "execution_count": 6,
          "metadata": {},
          "output_type": "execute_result"
        }
      ]
    },
    {
      "cell_type": "code",
      "metadata": {
        "id": "w5l55gCxYWZn"
      },
      "source": [
        "# Lista de frases\n",
        "lista_frases = [\"Big Data\", \n",
        "                \"Machine Learning em Big Data e Algoritmos em Big Data\", \n",
        "                \"Data Science e Big Data\", \n",
        "                \"Big Data e Internet das Coisas\",\n",
        "                \"Big Data está revolucionando o mundo, pois Big Data é um grande volume de dados\"]"
      ],
      "execution_count": null,
      "outputs": []
    },
    {
      "cell_type": "code",
      "metadata": {
        "id": "gy-1gbrzYWZn",
        "outputId": "fa100381-2a38-492d-e8fc-ba6055121eb1"
      },
      "source": [
        "[item for item in lista_frases if item.count(\"Big Data\") >= 2]"
      ],
      "execution_count": null,
      "outputs": [
        {
          "data": {
            "text/plain": [
              "['Machine Learning em Big Data e Algoritmos em Big Data',\n",
              " 'Big Data está revolucionando o mundo, pois Big Data é um grande volume de dados']"
            ]
          },
          "execution_count": 8,
          "metadata": {},
          "output_type": "execute_result"
        }
      ]
    },
    {
      "cell_type": "code",
      "metadata": {
        "id": "xiPnEvZ3YWZo",
        "outputId": "7e98e3c4-4a62-4dd9-f4e6-ede81a8d1bd5"
      },
      "source": [
        "[float(item) for item in array1]"
      ],
      "execution_count": null,
      "outputs": [
        {
          "data": {
            "text/plain": [
              "[0.0,\n",
              " 1.0,\n",
              " 2.0,\n",
              " 3.0,\n",
              " 4.0,\n",
              " 5.0,\n",
              " 6.0,\n",
              " 7.0,\n",
              " 8.0,\n",
              " 9.0,\n",
              " 10.0,\n",
              " 11.0,\n",
              " 12.0,\n",
              " 13.0,\n",
              " 14.0]"
            ]
          },
          "execution_count": 9,
          "metadata": {},
          "output_type": "execute_result"
        }
      ]
    },
    {
      "cell_type": "markdown",
      "metadata": {
        "id": "iW_0paM9YWZo"
      },
      "source": [
        "## Funções Lambda"
      ]
    },
    {
      "cell_type": "markdown",
      "metadata": {
        "id": "GDQkMzlKYWZp"
      },
      "source": [
        "Funções lambda são funções anônimas que não precisam ser definidas antes de serem usadas. São também chamadas funções inline e ajudam a manter seu código mais organizado."
      ]
    },
    {
      "cell_type": "code",
      "metadata": {
        "collapsed": true,
        "id": "bVdV1YAjYWZp"
      },
      "source": [
        "# Definindo um array com a função bulti-in range()\n",
        "array1 = range(0, 15)"
      ],
      "execution_count": null,
      "outputs": []
    },
    {
      "cell_type": "code",
      "metadata": {
        "id": "bRxDgUTmYWZp",
        "outputId": "22883ec8-40b4-4771-f02d-dc361262a049"
      },
      "source": [
        "print(array1)"
      ],
      "execution_count": null,
      "outputs": [
        {
          "name": "stdout",
          "output_type": "stream",
          "text": [
            "range(0, 15)\n"
          ]
        }
      ]
    },
    {
      "cell_type": "code",
      "metadata": {
        "id": "JawcLDqkYWZq",
        "outputId": "cdd6e19a-4086-475f-9a1d-f4fc55ed7e51"
      },
      "source": [
        "type(array1)"
      ],
      "execution_count": null,
      "outputs": [
        {
          "data": {
            "text/plain": [
              "range"
            ]
          },
          "execution_count": 12,
          "metadata": {},
          "output_type": "execute_result"
        }
      ]
    },
    {
      "cell_type": "code",
      "metadata": {
        "id": "Dhj_nQKkYWZq",
        "outputId": "8eb26ee4-d39c-4b00-ee64-fefdd138f484"
      },
      "source": [
        "# Aplicando list comprehension\n",
        "[item ** 2 for item in array1]"
      ],
      "execution_count": null,
      "outputs": [
        {
          "data": {
            "text/plain": [
              "[0, 1, 4, 9, 16, 25, 36, 49, 64, 81, 100, 121, 144, 169, 196]"
            ]
          },
          "execution_count": 13,
          "metadata": {},
          "output_type": "execute_result"
        }
      ]
    },
    {
      "cell_type": "code",
      "metadata": {
        "collapsed": true,
        "id": "9r0D0OyNYWZq"
      },
      "source": [
        "# Definindo um função\n",
        "def square(num):\n",
        "    return num ** 2"
      ],
      "execution_count": null,
      "outputs": []
    },
    {
      "cell_type": "code",
      "metadata": {
        "id": "Z0-mUGvCYWZr",
        "outputId": "4efa1192-7343-4e8f-ff5c-576eb2ab3ba8"
      },
      "source": [
        "# Aplicando a função map()\n",
        "list(map(square, array1))"
      ],
      "execution_count": null,
      "outputs": [
        {
          "data": {
            "text/plain": [
              "[0, 1, 4, 9, 16, 25, 36, 49, 64, 81, 100, 121, 144, 169, 196]"
            ]
          },
          "execution_count": 15,
          "metadata": {},
          "output_type": "execute_result"
        }
      ]
    },
    {
      "cell_type": "code",
      "metadata": {
        "id": "MQl4tZOnYWZr",
        "outputId": "05ca88a5-cd3b-4777-ab31-f3edab15d122"
      },
      "source": [
        "# Função lambda\n",
        "list(map(lambda num: num**2, array1))"
      ],
      "execution_count": null,
      "outputs": [
        {
          "data": {
            "text/plain": [
              "[0, 1, 4, 9, 16, 25, 36, 49, 64, 81, 100, 121, 144, 169, 196]"
            ]
          },
          "execution_count": 16,
          "metadata": {},
          "output_type": "execute_result"
        }
      ]
    },
    {
      "cell_type": "code",
      "metadata": {
        "id": "INYmCRVIYWZr",
        "outputId": "c2f1afd8-0a3d-4a92-c396-812175a4a13c"
      },
      "source": [
        "list(map(lambda a: a**2, filter(lambda a: a % 2 == 0, range(1,20))))"
      ],
      "execution_count": null,
      "outputs": [
        {
          "data": {
            "text/plain": [
              "[4, 16, 36, 64, 100, 144, 196, 256, 324]"
            ]
          },
          "execution_count": 17,
          "metadata": {},
          "output_type": "execute_result"
        }
      ]
    }
  ]
}