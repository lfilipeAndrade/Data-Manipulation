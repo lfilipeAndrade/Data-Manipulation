{
  "nbformat": 4,
  "nbformat_minor": 0,
  "metadata": {
    "kernelspec": {
      "display_name": "Python 3",
      "language": "python",
      "name": "python3"
    },
    "language_info": {
      "codemirror_mode": {
        "name": "ipython",
        "version": 3
      },
      "file_extension": ".py",
      "mimetype": "text/x-python",
      "name": "python",
      "nbconvert_exporter": "python",
      "pygments_lexer": "ipython3",
      "version": "3.8.3"
    },
    "colab": {
      "name": "Datetime.ipynb",
      "provenance": [],
      "collapsed_sections": [],
      "include_colab_link": true
    }
  },
  "cells": [
    {
      "cell_type": "markdown",
      "metadata": {
        "id": "view-in-github",
        "colab_type": "text"
      },
      "source": [
        "<a href=\"https://colab.research.google.com/github/lfilipeAndrade/Data-Manipulation/blob/main/Datetime.ipynb\" target=\"_parent\"><img src=\"https://colab.research.google.com/assets/colab-badge.svg\" alt=\"Open In Colab\"/></a>"
      ]
    },
    {
      "cell_type": "markdown",
      "metadata": {
        "id": "f2Ujr177K9cD"
      },
      "source": [
        "# Trabalhando com datas e tempo no Python\n",
        "## Biblioteca:datetime"
      ]
    },
    {
      "cell_type": "markdown",
      "metadata": {
        "id": "sb9R-qvOK9cH"
      },
      "source": [
        "### Documentação:"
      ]
    },
    {
      "cell_type": "markdown",
      "metadata": {
        "id": "PGTBwDHiK9cI"
      },
      "source": [
        "link: https://docs.python.org/3/library/datetime.html"
      ]
    },
    {
      "cell_type": "markdown",
      "metadata": {
        "id": "za6UE_iOK9cI"
      },
      "source": [
        "### Importação:"
      ]
    },
    {
      "cell_type": "code",
      "metadata": {
        "id": "RttzfwgPK9cJ"
      },
      "source": [
        "import datetime # para importar toda a biblioteca\n",
        "#import datetime as dt #\n",
        "# from datetime import date "
      ],
      "execution_count": 1,
      "outputs": []
    },
    {
      "cell_type": "markdown",
      "metadata": {
        "id": "6zJ-VrGuK9cK"
      },
      "source": [
        "### Principais Classes:"
      ]
    },
    {
      "cell_type": "markdown",
      "metadata": {
        "id": "FRHPKo4-K9cK"
      },
      "source": [
        "datetime.date - submódulo dedicado para datas;<br>\n",
        "datetime.time - submódulo dedicado para tempo;<br>\n",
        "datetime.datetime -submódulo dedicado para quando temos tanto tempo como data juntos;<br>\n",
        "datetime.timedelta - usado quando o objetivo é saber a diferença entre períodos de tempo distintos;"
      ]
    },
    {
      "cell_type": "markdown",
      "metadata": {
        "id": "dJPhk76xK9cL"
      },
      "source": [
        "## datetime.date:"
      ]
    },
    {
      "cell_type": "code",
      "metadata": {
        "id": "M5RXwtbwK9cM"
      },
      "source": [
        "data = datetime.date(2021,9,25)\n",
        "print(data)"
      ],
      "execution_count": null,
      "outputs": []
    },
    {
      "cell_type": "markdown",
      "metadata": {
        "id": "aM2-Z4V5K9cM"
      },
      "source": [
        "## Alterando a formatação da data"
      ]
    },
    {
      "cell_type": "markdown",
      "metadata": {
        "id": "AdYrYJIBK9cN"
      },
      "source": [
        "### ctime():"
      ]
    },
    {
      "cell_type": "code",
      "metadata": {
        "id": "gbmw6CyIK9cN"
      },
      "source": [
        "print(data.ctime())"
      ],
      "execution_count": null,
      "outputs": []
    },
    {
      "cell_type": "markdown",
      "metadata": {
        "id": "S16PdTygK9cO"
      },
      "source": [
        "### Acessando uma informação:"
      ]
    },
    {
      "cell_type": "code",
      "metadata": {
        "id": "iuc3_G_tK9cO"
      },
      "source": [
        "ano = data.year\n",
        "mes = data.month\n",
        "dia = data.day\n",
        "#hora = data.hora # erro!\n",
        "print(ano, mes, dia)"
      ],
      "execution_count": null,
      "outputs": []
    },
    {
      "cell_type": "markdown",
      "metadata": {
        "id": "d2o9TQC-K9cO"
      },
      "source": [
        "### Alterando uma informação:"
      ]
    },
    {
      "cell_type": "code",
      "metadata": {
        "id": "jsuMpAVnK9cO"
      },
      "source": [
        "nova_data = data.replace(day=2)\n",
        "print(nova_data)\n",
        "print(data)"
      ],
      "execution_count": null,
      "outputs": []
    },
    {
      "cell_type": "markdown",
      "metadata": {
        "id": "gZyyvSNsK9cP"
      },
      "source": [
        "### Pegando o dia de hoje -- datetime.date.today()"
      ]
    },
    {
      "cell_type": "code",
      "metadata": {
        "id": "NaFxqIAYK9cP"
      },
      "source": [
        "hoje = datetime.date.today()\n",
        "print(hoje)"
      ],
      "execution_count": null,
      "outputs": []
    },
    {
      "cell_type": "markdown",
      "metadata": {
        "id": "CuhLMrBRK9cP"
      },
      "source": [
        "### Fazendo operações com datas:"
      ]
    },
    {
      "cell_type": "code",
      "metadata": {
        "id": "DtKWJ548K9cP",
        "outputId": "25aff026-b211-4dc4-e422-56a57eccf807"
      },
      "source": [
        "delta = hoje - data\n",
        "print(delta)\n",
        "print(type(delta))"
      ],
      "execution_count": null,
      "outputs": [
        {
          "name": "stdout",
          "output_type": "stream",
          "text": [
            "-16 days, 23:20:40.455303\n",
            "<class 'datetime.timedelta'>\n"
          ]
        }
      ]
    },
    {
      "cell_type": "code",
      "metadata": {
        "id": "bpIAclmgK9cQ",
        "outputId": "2fa5eada-1161-4a70-a636-185441fb9435"
      },
      "source": [
        "nova_data = data + delta\n",
        "print(nova_data)"
      ],
      "execution_count": null,
      "outputs": [
        {
          "name": "stdout",
          "output_type": "stream",
          "text": [
            "2021-10-28 10:35:40.455303\n"
          ]
        }
      ]
    },
    {
      "cell_type": "markdown",
      "metadata": {
        "id": "xs1eS3s1K9cR"
      },
      "source": [
        "## datetime.time:"
      ]
    },
    {
      "cell_type": "code",
      "metadata": {
        "id": "xcJph0VGK9cR"
      },
      "source": [
        "hora = datetime.time(10,23,15)"
      ],
      "execution_count": null,
      "outputs": []
    },
    {
      "cell_type": "markdown",
      "metadata": {
        "id": "IE7lB1u0K9cR"
      },
      "source": [
        "### Acessando uma informação:"
      ]
    },
    {
      "cell_type": "code",
      "metadata": {
        "id": "mZA4We1mK9cR"
      },
      "source": [
        "print(hora.hour)\n",
        "print(hora.minute)\n",
        "print(hora.second)"
      ],
      "execution_count": null,
      "outputs": []
    },
    {
      "cell_type": "markdown",
      "metadata": {
        "id": "nBMFp71AK9cS"
      },
      "source": [
        "## datetime.datetime:"
      ]
    },
    {
      "cell_type": "code",
      "metadata": {
        "id": "TprWuAy5K9cS"
      },
      "source": [
        "data = datetime.datetime(2021,11,12,11,15)\n",
        "print( data)"
      ],
      "execution_count": null,
      "outputs": []
    },
    {
      "cell_type": "markdown",
      "metadata": {
        "id": "7woY2LodK9cS"
      },
      "source": [
        "## Pegando o momento exato -- datetime.datetime.now()"
      ]
    },
    {
      "cell_type": "code",
      "metadata": {
        "id": "iNQER2G1K9cS"
      },
      "source": [
        "agora = datetime.datetime.now()\n",
        "print(agora)"
      ],
      "execution_count": null,
      "outputs": []
    },
    {
      "cell_type": "markdown",
      "metadata": {
        "id": "c7c3dHn2K9cS"
      },
      "source": [
        "### Altera o texto de exibição da data de um formato \"datetime\" para uma srting -- strftime():\n",
        "Link: https://docs.python.org/3/library/datetime.html#strftime-strptime-behavior"
      ]
    },
    {
      "cell_type": "code",
      "metadata": {
        "scrolled": true,
        "id": "3W2Amj0oK9cT"
      },
      "source": [
        "agora_string = agora.strftime(\"%A %d %B %y %I:%M\")\n",
        "print(agora_string)"
      ],
      "execution_count": null,
      "outputs": []
    },
    {
      "cell_type": "markdown",
      "metadata": {
        "id": "l2hTaZcwK9cT"
      },
      "source": [
        "### Altera o texto de exibição da data de uma string para um formato \"datetime\"-- strptime():\n",
        "Link: https://docs.python.org/3/library/datetime.html#strftime-strptime-behavior"
      ]
    },
    {
      "cell_type": "code",
      "metadata": {
        "id": "bH5LnG6NK9cT"
      },
      "source": [
        "agora_datetime = datetime.datetime.strptime(agora_string,\"%A %d %B %y %I:%M\")\n",
        "print(agora_datetime)"
      ],
      "execution_count": null,
      "outputs": []
    },
    {
      "cell_type": "markdown",
      "metadata": {
        "id": "PxISgj-OK9cT"
      },
      "source": [
        "## Aplicação - Registro (logs) de atualizações ou operações:"
      ]
    },
    {
      "cell_type": "code",
      "metadata": {
        "id": "Idxl09JlK9cT"
      },
      "source": [
        "comentarios = []\n",
        "\n",
        "comentario=None\n",
        "while comentario != \"\":\n",
        "    comentario=input('Insira seu comentário')\n",
        "    data_public = datetime.datetime.now()\n",
        "    data_public_str=data_public.strftime(\"%d/%m/%Y %H:%M\")\n",
        "    comentarios.append((comentario,data_public_str))\n",
        "\n",
        "for comentario in comentarios[:-1]:\n",
        "    print(comentario)"
      ],
      "execution_count": null,
      "outputs": []
    },
    {
      "cell_type": "code",
      "metadata": {
        "id": "NTsnV457LUpZ"
      },
      "source": [
        ""
      ],
      "execution_count": null,
      "outputs": []
    }
  ]
}