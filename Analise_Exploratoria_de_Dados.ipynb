{
  "nbformat": 4,
  "nbformat_minor": 0,
  "metadata": {
    "anaconda-cloud": {},
    "kernelspec": {
      "display_name": "Python 3",
      "language": "python",
      "name": "python3"
    },
    "language_info": {
      "codemirror_mode": {
        "name": "ipython",
        "version": 3
      },
      "file_extension": ".py",
      "mimetype": "text/x-python",
      "name": "python",
      "nbconvert_exporter": "python",
      "pygments_lexer": "ipython3",
      "version": "3.6.1"
    },
    "colab": {
      "name": "Analise Exploratoria de Dados.ipynb",
      "provenance": [],
      "collapsed_sections": [],
      "include_colab_link": true
    }
  },
  "cells": [
    {
      "cell_type": "markdown",
      "metadata": {
        "id": "view-in-github",
        "colab_type": "text"
      },
      "source": [
        "<a href=\"https://colab.research.google.com/github/lfilipeAndrade/Data-Manipulation/blob/main/Analise_Exploratoria_de_Dados.ipynb\" target=\"_parent\"><img src=\"https://colab.research.google.com/assets/colab-badge.svg\" alt=\"Open In Colab\"/></a>"
      ]
    },
    {
      "cell_type": "markdown",
      "metadata": {
        "id": "ctJ201MTQMHU"
      },
      "source": [
        "## Pandas - DataFrames"
      ]
    },
    {
      "cell_type": "code",
      "metadata": {
        "id": "7T1wqObBQMHU"
      },
      "source": [
        "import pandas as pd\n",
        "import numpy as np\n",
        "import warnings\n",
        "warnings.filterwarnings('ignore')\n",
        "import matplotlib.pyplot as plt\n",
        "%matplotlib inline"
      ],
      "execution_count": 1,
      "outputs": []
    },
    {
      "cell_type": "markdown",
      "metadata": {
        "id": "dJ5WO5bbQMHW"
      },
      "source": [
        "## Análise Exploratória de Dados"
      ]
    },
    {
      "cell_type": "code",
      "metadata": {
        "id": "XlE_y9XCQMHW"
      },
      "source": [
        "df = pd.read_csv('dataframe_saved_v1.csv')"
      ],
      "execution_count": 5,
      "outputs": []
    },
    {
      "cell_type": "code",
      "metadata": {
        "colab": {
          "base_uri": "https://localhost:8080/",
          "height": 206
        },
        "id": "092ECcMuQMHX",
        "outputId": "0059aa3f-f00b-452d-e40e-56e1e791b841"
      },
      "source": [
        "df.head()"
      ],
      "execution_count": 6,
      "outputs": [
        {
          "output_type": "execute_result",
          "data": {
            "text/html": [
              "<div>\n",
              "<style scoped>\n",
              "    .dataframe tbody tr th:only-of-type {\n",
              "        vertical-align: middle;\n",
              "    }\n",
              "\n",
              "    .dataframe tbody tr th {\n",
              "        vertical-align: top;\n",
              "    }\n",
              "\n",
              "    .dataframe thead th {\n",
              "        text-align: right;\n",
              "    }\n",
              "</style>\n",
              "<table border=\"1\" class=\"dataframe\">\n",
              "  <thead>\n",
              "    <tr style=\"text-align: right;\">\n",
              "      <th></th>\n",
              "      <th>Data</th>\n",
              "      <th>Distancia</th>\n",
              "      <th>Tempo</th>\n",
              "    </tr>\n",
              "  </thead>\n",
              "  <tbody>\n",
              "    <tr>\n",
              "      <th>0</th>\n",
              "      <td>2015-08-02</td>\n",
              "      <td>1.70</td>\n",
              "      <td>NaN</td>\n",
              "    </tr>\n",
              "    <tr>\n",
              "      <th>1</th>\n",
              "      <td>2015-08-03</td>\n",
              "      <td>1.40</td>\n",
              "      <td>NaN</td>\n",
              "    </tr>\n",
              "    <tr>\n",
              "      <th>2</th>\n",
              "      <td>2015-08-04</td>\n",
              "      <td>2.10</td>\n",
              "      <td>NaN</td>\n",
              "    </tr>\n",
              "    <tr>\n",
              "      <th>3</th>\n",
              "      <td>2015-08-06</td>\n",
              "      <td>2.38</td>\n",
              "      <td>NaN</td>\n",
              "    </tr>\n",
              "    <tr>\n",
              "      <th>4</th>\n",
              "      <td>2015-08-07</td>\n",
              "      <td>2.30</td>\n",
              "      <td>NaN</td>\n",
              "    </tr>\n",
              "  </tbody>\n",
              "</table>\n",
              "</div>"
            ],
            "text/plain": [
              "         Data  Distancia Tempo\n",
              "0  2015-08-02       1.70   NaN\n",
              "1  2015-08-03       1.40   NaN\n",
              "2  2015-08-04       2.10   NaN\n",
              "3  2015-08-06       2.38   NaN\n",
              "4  2015-08-07       2.30   NaN"
            ]
          },
          "metadata": {},
          "execution_count": 6
        }
      ]
    },
    {
      "cell_type": "code",
      "metadata": {
        "colab": {
          "base_uri": "https://localhost:8080/"
        },
        "id": "z5xA9LPoQMHa",
        "outputId": "9d8fd480-e8e5-44fd-8b06-fe19e0030c76"
      },
      "source": [
        "df.dtypes"
      ],
      "execution_count": 7,
      "outputs": [
        {
          "output_type": "execute_result",
          "data": {
            "text/plain": [
              "Data          object\n",
              "Distancia    float64\n",
              "Tempo         object\n",
              "dtype: object"
            ]
          },
          "metadata": {},
          "execution_count": 7
        }
      ]
    },
    {
      "cell_type": "code",
      "metadata": {
        "collapsed": true,
        "id": "PD-t9PioQMHa"
      },
      "source": [
        "df = pd.read_csv('dataframe_saved_v1.csv', parse_dates = ['Data'])"
      ],
      "execution_count": 9,
      "outputs": []
    },
    {
      "cell_type": "code",
      "metadata": {
        "colab": {
          "base_uri": "https://localhost:8080/",
          "height": 206
        },
        "id": "RSh2WzISQMHb",
        "outputId": "19ff444d-b846-46d6-afb5-a9940ddb15d8"
      },
      "source": [
        "df.head()"
      ],
      "execution_count": 10,
      "outputs": [
        {
          "output_type": "execute_result",
          "data": {
            "text/html": [
              "<div>\n",
              "<style scoped>\n",
              "    .dataframe tbody tr th:only-of-type {\n",
              "        vertical-align: middle;\n",
              "    }\n",
              "\n",
              "    .dataframe tbody tr th {\n",
              "        vertical-align: top;\n",
              "    }\n",
              "\n",
              "    .dataframe thead th {\n",
              "        text-align: right;\n",
              "    }\n",
              "</style>\n",
              "<table border=\"1\" class=\"dataframe\">\n",
              "  <thead>\n",
              "    <tr style=\"text-align: right;\">\n",
              "      <th></th>\n",
              "      <th>Data</th>\n",
              "      <th>Distancia</th>\n",
              "      <th>Tempo</th>\n",
              "    </tr>\n",
              "  </thead>\n",
              "  <tbody>\n",
              "    <tr>\n",
              "      <th>0</th>\n",
              "      <td>2015-08-02</td>\n",
              "      <td>1.70</td>\n",
              "      <td>NaN</td>\n",
              "    </tr>\n",
              "    <tr>\n",
              "      <th>1</th>\n",
              "      <td>2015-08-03</td>\n",
              "      <td>1.40</td>\n",
              "      <td>NaN</td>\n",
              "    </tr>\n",
              "    <tr>\n",
              "      <th>2</th>\n",
              "      <td>2015-08-04</td>\n",
              "      <td>2.10</td>\n",
              "      <td>NaN</td>\n",
              "    </tr>\n",
              "    <tr>\n",
              "      <th>3</th>\n",
              "      <td>2015-08-06</td>\n",
              "      <td>2.38</td>\n",
              "      <td>NaN</td>\n",
              "    </tr>\n",
              "    <tr>\n",
              "      <th>4</th>\n",
              "      <td>2015-08-07</td>\n",
              "      <td>2.30</td>\n",
              "      <td>NaN</td>\n",
              "    </tr>\n",
              "  </tbody>\n",
              "</table>\n",
              "</div>"
            ],
            "text/plain": [
              "        Data  Distancia Tempo\n",
              "0 2015-08-02       1.70   NaN\n",
              "1 2015-08-03       1.40   NaN\n",
              "2 2015-08-04       2.10   NaN\n",
              "3 2015-08-06       2.38   NaN\n",
              "4 2015-08-07       2.30   NaN"
            ]
          },
          "metadata": {},
          "execution_count": 10
        }
      ]
    },
    {
      "cell_type": "code",
      "metadata": {
        "colab": {
          "base_uri": "https://localhost:8080/"
        },
        "id": "TNEpyRDOQMHc",
        "outputId": "06ed0585-39a8-4f84-9192-5398ef311c0c"
      },
      "source": [
        "df.dtypes"
      ],
      "execution_count": 11,
      "outputs": [
        {
          "output_type": "execute_result",
          "data": {
            "text/plain": [
              "Data         datetime64[ns]\n",
              "Distancia           float64\n",
              "Tempo                object\n",
              "dtype: object"
            ]
          },
          "metadata": {},
          "execution_count": 11
        }
      ]
    },
    {
      "cell_type": "code",
      "metadata": {
        "colab": {
          "base_uri": "https://localhost:8080/",
          "height": 206
        },
        "id": "eEJr-xQ4QMHc",
        "outputId": "77a13f08-5c25-46db-c0a1-f2ecbf27035e"
      },
      "source": [
        "cols = ['Data', 'Distancia', 'Tempo']\n",
        "df.columns = cols\n",
        "df.head()"
      ],
      "execution_count": 12,
      "outputs": [
        {
          "output_type": "execute_result",
          "data": {
            "text/html": [
              "<div>\n",
              "<style scoped>\n",
              "    .dataframe tbody tr th:only-of-type {\n",
              "        vertical-align: middle;\n",
              "    }\n",
              "\n",
              "    .dataframe tbody tr th {\n",
              "        vertical-align: top;\n",
              "    }\n",
              "\n",
              "    .dataframe thead th {\n",
              "        text-align: right;\n",
              "    }\n",
              "</style>\n",
              "<table border=\"1\" class=\"dataframe\">\n",
              "  <thead>\n",
              "    <tr style=\"text-align: right;\">\n",
              "      <th></th>\n",
              "      <th>Data</th>\n",
              "      <th>Distancia</th>\n",
              "      <th>Tempo</th>\n",
              "    </tr>\n",
              "  </thead>\n",
              "  <tbody>\n",
              "    <tr>\n",
              "      <th>0</th>\n",
              "      <td>2015-08-02</td>\n",
              "      <td>1.70</td>\n",
              "      <td>NaN</td>\n",
              "    </tr>\n",
              "    <tr>\n",
              "      <th>1</th>\n",
              "      <td>2015-08-03</td>\n",
              "      <td>1.40</td>\n",
              "      <td>NaN</td>\n",
              "    </tr>\n",
              "    <tr>\n",
              "      <th>2</th>\n",
              "      <td>2015-08-04</td>\n",
              "      <td>2.10</td>\n",
              "      <td>NaN</td>\n",
              "    </tr>\n",
              "    <tr>\n",
              "      <th>3</th>\n",
              "      <td>2015-08-06</td>\n",
              "      <td>2.38</td>\n",
              "      <td>NaN</td>\n",
              "    </tr>\n",
              "    <tr>\n",
              "      <th>4</th>\n",
              "      <td>2015-08-07</td>\n",
              "      <td>2.30</td>\n",
              "      <td>NaN</td>\n",
              "    </tr>\n",
              "  </tbody>\n",
              "</table>\n",
              "</div>"
            ],
            "text/plain": [
              "        Data  Distancia Tempo\n",
              "0 2015-08-02       1.70   NaN\n",
              "1 2015-08-03       1.40   NaN\n",
              "2 2015-08-04       2.10   NaN\n",
              "3 2015-08-06       2.38   NaN\n",
              "4 2015-08-07       2.30   NaN"
            ]
          },
          "metadata": {},
          "execution_count": 12
        }
      ]
    },
    {
      "cell_type": "code",
      "metadata": {
        "collapsed": true,
        "id": "IljpGbB_QMHd"
      },
      "source": [
        "df.rename(columns = {df.columns[0]:'Data'}, inplace = True)"
      ],
      "execution_count": 13,
      "outputs": []
    },
    {
      "cell_type": "code",
      "metadata": {
        "colab": {
          "base_uri": "https://localhost:8080/"
        },
        "id": "TZqkEQUFQMHd",
        "outputId": "33d5004c-92af-462c-e5c1-485331a86da6"
      },
      "source": [
        "# Retornar a qtd de registros em um mês especifico\n",
        "len(df['2015-08'])"
      ],
      "execution_count": 41,
      "outputs": [
        {
          "output_type": "execute_result",
          "data": {
            "text/plain": [
              "29"
            ]
          },
          "metadata": {},
          "execution_count": 41
        }
      ]
    },
    {
      "cell_type": "code",
      "metadata": {
        "id": "_lmsM7gaQMHe"
      },
      "source": [
        "# Definir a cpluna data como indice\n",
        "df.set_index('Data', inplace = True)"
      ],
      "execution_count": 15,
      "outputs": []
    },
    {
      "cell_type": "code",
      "metadata": {
        "colab": {
          "base_uri": "https://localhost:8080/",
          "height": 238
        },
        "id": "3AnMGaTWQMHe",
        "outputId": "48d1fe72-f1c5-4987-bd9f-c1f45012fc9a"
      },
      "source": [
        "df.head()"
      ],
      "execution_count": 16,
      "outputs": [
        {
          "output_type": "execute_result",
          "data": {
            "text/html": [
              "<div>\n",
              "<style scoped>\n",
              "    .dataframe tbody tr th:only-of-type {\n",
              "        vertical-align: middle;\n",
              "    }\n",
              "\n",
              "    .dataframe tbody tr th {\n",
              "        vertical-align: top;\n",
              "    }\n",
              "\n",
              "    .dataframe thead th {\n",
              "        text-align: right;\n",
              "    }\n",
              "</style>\n",
              "<table border=\"1\" class=\"dataframe\">\n",
              "  <thead>\n",
              "    <tr style=\"text-align: right;\">\n",
              "      <th></th>\n",
              "      <th>Distancia</th>\n",
              "      <th>Tempo</th>\n",
              "    </tr>\n",
              "    <tr>\n",
              "      <th>Data</th>\n",
              "      <th></th>\n",
              "      <th></th>\n",
              "    </tr>\n",
              "  </thead>\n",
              "  <tbody>\n",
              "    <tr>\n",
              "      <th>2015-08-02</th>\n",
              "      <td>1.70</td>\n",
              "      <td>NaN</td>\n",
              "    </tr>\n",
              "    <tr>\n",
              "      <th>2015-08-03</th>\n",
              "      <td>1.40</td>\n",
              "      <td>NaN</td>\n",
              "    </tr>\n",
              "    <tr>\n",
              "      <th>2015-08-04</th>\n",
              "      <td>2.10</td>\n",
              "      <td>NaN</td>\n",
              "    </tr>\n",
              "    <tr>\n",
              "      <th>2015-08-06</th>\n",
              "      <td>2.38</td>\n",
              "      <td>NaN</td>\n",
              "    </tr>\n",
              "    <tr>\n",
              "      <th>2015-08-07</th>\n",
              "      <td>2.30</td>\n",
              "      <td>NaN</td>\n",
              "    </tr>\n",
              "  </tbody>\n",
              "</table>\n",
              "</div>"
            ],
            "text/plain": [
              "            Distancia Tempo\n",
              "Data                       \n",
              "2015-08-02       1.70   NaN\n",
              "2015-08-03       1.40   NaN\n",
              "2015-08-04       2.10   NaN\n",
              "2015-08-06       2.38   NaN\n",
              "2015-08-07       2.30   NaN"
            ]
          },
          "metadata": {},
          "execution_count": 16
        }
      ]
    },
    {
      "cell_type": "code",
      "metadata": {
        "colab": {
          "base_uri": "https://localhost:8080/",
          "height": 294
        },
        "id": "XXsANMmqQMHe",
        "outputId": "d3337222-9d8b-4c01-b7e8-10671f8e540b"
      },
      "source": [
        "df.plot()"
      ],
      "execution_count": 17,
      "outputs": [
        {
          "output_type": "execute_result",
          "data": {
            "text/plain": [
              "<matplotlib.axes._subplots.AxesSubplot at 0x7f40425d0a10>"
            ]
          },
          "metadata": {},
          "execution_count": 17
        },
        {
          "output_type": "display_data",
          "data": {
            "image/png": "[encoded data removed]",
            "text/plain": [
              "<Figure size 432x288 with 1 Axes>"
            ]
          },
          "metadata": {
            "needs_background": "light"
          }
        }
      ]
    },
    {
      "cell_type": "code",
      "metadata": {
        "colab": {
          "base_uri": "https://localhost:8080/"
        },
        "id": "FTcJwXaqQMHe",
        "outputId": "00d6bedd-d41b-4aaa-8c78-923d3791a0f7"
      },
      "source": [
        "# Função que converte horas em formato \"01:00\" (string) em seg. (numerico), quebrado pelo caract \":\"\n",
        "tempo_idx_0 = df.Tempo[0]\n",
        "def calcula_total_segundos(time):\n",
        "    if time is np.nan:\n",
        "        return np.nan \n",
        "    hrs, mins, seconds = str(time).split(':')\n",
        "    seconds = int(seconds) + 60 * int(mins) + 60 * 60 * int(hrs)\n",
        "    return seconds    \n",
        "print(calcula_total_segundos(tempo_idx_0))"
      ],
      "execution_count": 19,
      "outputs": [
        {
          "output_type": "stream",
          "name": "stdout",
          "text": [
            "nan\n"
          ]
        }
      ]
    },
    {
      "cell_type": "code",
      "metadata": {
        "collapsed": true,
        "id": "_7n4pVUOQMHf"
      },
      "source": [
        "df['Segundos'] = df.Tempo.map(calcula_total_segundos)"
      ],
      "execution_count": 20,
      "outputs": []
    },
    {
      "cell_type": "code",
      "metadata": {
        "colab": {
          "base_uri": "https://localhost:8080/",
          "height": 394
        },
        "id": "ve69VJj7QMHf",
        "outputId": "93cc4af1-4738-450c-a04f-efd61631b422"
      },
      "source": [
        "df.head(10)"
      ],
      "execution_count": 21,
      "outputs": [
        {
          "output_type": "execute_result",
          "data": {
            "text/html": [
              "<div>\n",
              "<style scoped>\n",
              "    .dataframe tbody tr th:only-of-type {\n",
              "        vertical-align: middle;\n",
              "    }\n",
              "\n",
              "    .dataframe tbody tr th {\n",
              "        vertical-align: top;\n",
              "    }\n",
              "\n",
              "    .dataframe thead th {\n",
              "        text-align: right;\n",
              "    }\n",
              "</style>\n",
              "<table border=\"1\" class=\"dataframe\">\n",
              "  <thead>\n",
              "    <tr style=\"text-align: right;\">\n",
              "      <th></th>\n",
              "      <th>Distancia</th>\n",
              "      <th>Tempo</th>\n",
              "      <th>Segundos</th>\n",
              "    </tr>\n",
              "    <tr>\n",
              "      <th>Data</th>\n",
              "      <th></th>\n",
              "      <th></th>\n",
              "      <th></th>\n",
              "    </tr>\n",
              "  </thead>\n",
              "  <tbody>\n",
              "    <tr>\n",
              "      <th>2015-08-02</th>\n",
              "      <td>1.70</td>\n",
              "      <td>NaN</td>\n",
              "      <td>NaN</td>\n",
              "    </tr>\n",
              "    <tr>\n",
              "      <th>2015-08-03</th>\n",
              "      <td>1.40</td>\n",
              "      <td>NaN</td>\n",
              "      <td>NaN</td>\n",
              "    </tr>\n",
              "    <tr>\n",
              "      <th>2015-08-04</th>\n",
              "      <td>2.10</td>\n",
              "      <td>NaN</td>\n",
              "      <td>NaN</td>\n",
              "    </tr>\n",
              "    <tr>\n",
              "      <th>2015-08-06</th>\n",
              "      <td>2.38</td>\n",
              "      <td>NaN</td>\n",
              "      <td>NaN</td>\n",
              "    </tr>\n",
              "    <tr>\n",
              "      <th>2015-08-07</th>\n",
              "      <td>2.30</td>\n",
              "      <td>NaN</td>\n",
              "      <td>NaN</td>\n",
              "    </tr>\n",
              "    <tr>\n",
              "      <th>2015-08-08</th>\n",
              "      <td>3.40</td>\n",
              "      <td>NaN</td>\n",
              "      <td>NaN</td>\n",
              "    </tr>\n",
              "    <tr>\n",
              "      <th>2015-08-09</th>\n",
              "      <td>2.50</td>\n",
              "      <td>NaN</td>\n",
              "      <td>NaN</td>\n",
              "    </tr>\n",
              "    <tr>\n",
              "      <th>2015-08-10</th>\n",
              "      <td>3.36</td>\n",
              "      <td>0:28:37</td>\n",
              "      <td>1717.0</td>\n",
              "    </tr>\n",
              "    <tr>\n",
              "      <th>2015-08-11</th>\n",
              "      <td>1.67</td>\n",
              "      <td>0:13:07</td>\n",
              "      <td>787.0</td>\n",
              "    </tr>\n",
              "    <tr>\n",
              "      <th>2015-08-12</th>\n",
              "      <td>1.42</td>\n",
              "      <td>0:10:35</td>\n",
              "      <td>635.0</td>\n",
              "    </tr>\n",
              "  </tbody>\n",
              "</table>\n",
              "</div>"
            ],
            "text/plain": [
              "            Distancia    Tempo  Segundos\n",
              "Data                                    \n",
              "2015-08-02       1.70      NaN       NaN\n",
              "2015-08-03       1.40      NaN       NaN\n",
              "2015-08-04       2.10      NaN       NaN\n",
              "2015-08-06       2.38      NaN       NaN\n",
              "2015-08-07       2.30      NaN       NaN\n",
              "2015-08-08       3.40      NaN       NaN\n",
              "2015-08-09       2.50      NaN       NaN\n",
              "2015-08-10       3.36  0:28:37    1717.0\n",
              "2015-08-11       1.67  0:13:07     787.0\n",
              "2015-08-12       1.42  0:10:35     635.0"
            ]
          },
          "metadata": {},
          "execution_count": 21
        }
      ]
    },
    {
      "cell_type": "code",
      "metadata": {
        "colab": {
          "base_uri": "https://localhost:8080/",
          "height": 300
        },
        "id": "5Etv_EphQMHg",
        "outputId": "06547905-55d7-43d4-9fcd-e3c228569667"
      },
      "source": [
        "df.describe()"
      ],
      "execution_count": 24,
      "outputs": [
        {
          "output_type": "execute_result",
          "data": {
            "text/html": [
              "<div>\n",
              "<style scoped>\n",
              "    .dataframe tbody tr th:only-of-type {\n",
              "        vertical-align: middle;\n",
              "    }\n",
              "\n",
              "    .dataframe tbody tr th {\n",
              "        vertical-align: top;\n",
              "    }\n",
              "\n",
              "    .dataframe thead th {\n",
              "        text-align: right;\n",
              "    }\n",
              "</style>\n",
              "<table border=\"1\" class=\"dataframe\">\n",
              "  <thead>\n",
              "    <tr style=\"text-align: right;\">\n",
              "      <th></th>\n",
              "      <th>Distancia</th>\n",
              "      <th>Segundos</th>\n",
              "    </tr>\n",
              "  </thead>\n",
              "  <tbody>\n",
              "    <tr>\n",
              "      <th>count</th>\n",
              "      <td>81.000000</td>\n",
              "      <td>52.000000</td>\n",
              "    </tr>\n",
              "    <tr>\n",
              "      <th>mean</th>\n",
              "      <td>3.137531</td>\n",
              "      <td>1901.788462</td>\n",
              "    </tr>\n",
              "    <tr>\n",
              "      <th>std</th>\n",
              "      <td>3.634519</td>\n",
              "      <td>2560.424171</td>\n",
              "    </tr>\n",
              "    <tr>\n",
              "      <th>min</th>\n",
              "      <td>0.650000</td>\n",
              "      <td>376.000000</td>\n",
              "    </tr>\n",
              "    <tr>\n",
              "      <th>25%</th>\n",
              "      <td>1.370000</td>\n",
              "      <td>583.750000</td>\n",
              "    </tr>\n",
              "    <tr>\n",
              "      <th>50%</th>\n",
              "      <td>2.100000</td>\n",
              "      <td>1343.500000</td>\n",
              "    </tr>\n",
              "    <tr>\n",
              "      <th>75%</th>\n",
              "      <td>3.050000</td>\n",
              "      <td>1743.250000</td>\n",
              "    </tr>\n",
              "    <tr>\n",
              "      <th>max</th>\n",
              "      <td>26.200000</td>\n",
              "      <td>15643.000000</td>\n",
              "    </tr>\n",
              "  </tbody>\n",
              "</table>\n",
              "</div>"
            ],
            "text/plain": [
              "       Distancia      Segundos\n",
              "count  81.000000     52.000000\n",
              "mean    3.137531   1901.788462\n",
              "std     3.634519   2560.424171\n",
              "min     0.650000    376.000000\n",
              "25%     1.370000    583.750000\n",
              "50%     2.100000   1343.500000\n",
              "75%     3.050000   1743.250000\n",
              "max    26.200000  15643.000000"
            ]
          },
          "metadata": {},
          "execution_count": 24
        }
      ]
    },
    {
      "cell_type": "code",
      "metadata": {
        "colab": {
          "base_uri": "https://localhost:8080/",
          "height": 300
        },
        "id": "viIPMaWrQMHg",
        "outputId": "80f95cd3-8e27-4de7-d420-c50253818238"
      },
      "source": [
        "# fillna(0) tem a função de substituir valores NA por outro, nesse caso por zero\n",
        "df.fillna(0).describe()"
      ],
      "execution_count": 32,
      "outputs": [
        {
          "output_type": "execute_result",
          "data": {
            "text/html": [
              "<div>\n",
              "<style scoped>\n",
              "    .dataframe tbody tr th:only-of-type {\n",
              "        vertical-align: middle;\n",
              "    }\n",
              "\n",
              "    .dataframe tbody tr th {\n",
              "        vertical-align: top;\n",
              "    }\n",
              "\n",
              "    .dataframe thead th {\n",
              "        text-align: right;\n",
              "    }\n",
              "</style>\n",
              "<table border=\"1\" class=\"dataframe\">\n",
              "  <thead>\n",
              "    <tr style=\"text-align: right;\">\n",
              "      <th></th>\n",
              "      <th>Distancia</th>\n",
              "      <th>Segundos</th>\n",
              "    </tr>\n",
              "  </thead>\n",
              "  <tbody>\n",
              "    <tr>\n",
              "      <th>count</th>\n",
              "      <td>81.000000</td>\n",
              "      <td>81.000000</td>\n",
              "    </tr>\n",
              "    <tr>\n",
              "      <th>mean</th>\n",
              "      <td>3.137531</td>\n",
              "      <td>1220.901235</td>\n",
              "    </tr>\n",
              "    <tr>\n",
              "      <th>std</th>\n",
              "      <td>3.634519</td>\n",
              "      <td>2240.756985</td>\n",
              "    </tr>\n",
              "    <tr>\n",
              "      <th>min</th>\n",
              "      <td>0.650000</td>\n",
              "      <td>0.000000</td>\n",
              "    </tr>\n",
              "    <tr>\n",
              "      <th>25%</th>\n",
              "      <td>1.370000</td>\n",
              "      <td>0.000000</td>\n",
              "    </tr>\n",
              "    <tr>\n",
              "      <th>50%</th>\n",
              "      <td>2.100000</td>\n",
              "      <td>573.000000</td>\n",
              "    </tr>\n",
              "    <tr>\n",
              "      <th>75%</th>\n",
              "      <td>3.050000</td>\n",
              "      <td>1426.000000</td>\n",
              "    </tr>\n",
              "    <tr>\n",
              "      <th>max</th>\n",
              "      <td>26.200000</td>\n",
              "      <td>15643.000000</td>\n",
              "    </tr>\n",
              "  </tbody>\n",
              "</table>\n",
              "</div>"
            ],
            "text/plain": [
              "       Distancia      Segundos\n",
              "count  81.000000     81.000000\n",
              "mean    3.137531   1220.901235\n",
              "std     3.634519   2240.756985\n",
              "min     0.650000      0.000000\n",
              "25%     1.370000      0.000000\n",
              "50%     2.100000    573.000000\n",
              "75%     3.050000   1426.000000\n",
              "max    26.200000  15643.000000"
            ]
          },
          "metadata": {},
          "execution_count": 32
        }
      ]
    },
    {
      "cell_type": "code",
      "metadata": {
        "collapsed": true,
        "id": "vVXWKxBcQMHg"
      },
      "source": [
        "# Criando uma nova coluna, convertendo os valores da coluna \"segundos\" com a função map para iterar todas as linhas\n",
        "df['Minutos'] = df['Segundos'].map(lambda x: x / 60)"
      ],
      "execution_count": 33,
      "outputs": []
    },
    {
      "cell_type": "code",
      "metadata": {
        "colab": {
          "base_uri": "https://localhost:8080/",
          "height": 300
        },
        "id": "ykGjpLbDQMHg",
        "outputId": "bf5bd4a2-edba-4763-8f1a-3daa6bf1e74a"
      },
      "source": [
        "df.fillna(0).describe()"
      ],
      "execution_count": 34,
      "outputs": [
        {
          "output_type": "execute_result",
          "data": {
            "text/html": [
              "<div>\n",
              "<style scoped>\n",
              "    .dataframe tbody tr th:only-of-type {\n",
              "        vertical-align: middle;\n",
              "    }\n",
              "\n",
              "    .dataframe tbody tr th {\n",
              "        vertical-align: top;\n",
              "    }\n",
              "\n",
              "    .dataframe thead th {\n",
              "        text-align: right;\n",
              "    }\n",
              "</style>\n",
              "<table border=\"1\" class=\"dataframe\">\n",
              "  <thead>\n",
              "    <tr style=\"text-align: right;\">\n",
              "      <th></th>\n",
              "      <th>Distancia</th>\n",
              "      <th>Segundos</th>\n",
              "      <th>Minutos</th>\n",
              "    </tr>\n",
              "  </thead>\n",
              "  <tbody>\n",
              "    <tr>\n",
              "      <th>count</th>\n",
              "      <td>81.000000</td>\n",
              "      <td>81.000000</td>\n",
              "      <td>81.000000</td>\n",
              "    </tr>\n",
              "    <tr>\n",
              "      <th>mean</th>\n",
              "      <td>3.137531</td>\n",
              "      <td>1220.901235</td>\n",
              "      <td>20.348354</td>\n",
              "    </tr>\n",
              "    <tr>\n",
              "      <th>std</th>\n",
              "      <td>3.634519</td>\n",
              "      <td>2240.756985</td>\n",
              "      <td>37.345950</td>\n",
              "    </tr>\n",
              "    <tr>\n",
              "      <th>min</th>\n",
              "      <td>0.650000</td>\n",
              "      <td>0.000000</td>\n",
              "      <td>0.000000</td>\n",
              "    </tr>\n",
              "    <tr>\n",
              "      <th>25%</th>\n",
              "      <td>1.370000</td>\n",
              "      <td>0.000000</td>\n",
              "      <td>0.000000</td>\n",
              "    </tr>\n",
              "    <tr>\n",
              "      <th>50%</th>\n",
              "      <td>2.100000</td>\n",
              "      <td>573.000000</td>\n",
              "      <td>9.550000</td>\n",
              "    </tr>\n",
              "    <tr>\n",
              "      <th>75%</th>\n",
              "      <td>3.050000</td>\n",
              "      <td>1426.000000</td>\n",
              "      <td>23.766667</td>\n",
              "    </tr>\n",
              "    <tr>\n",
              "      <th>max</th>\n",
              "      <td>26.200000</td>\n",
              "      <td>15643.000000</td>\n",
              "      <td>260.716667</td>\n",
              "    </tr>\n",
              "  </tbody>\n",
              "</table>\n",
              "</div>"
            ],
            "text/plain": [
              "       Distancia      Segundos     Minutos\n",
              "count  81.000000     81.000000   81.000000\n",
              "mean    3.137531   1220.901235   20.348354\n",
              "std     3.634519   2240.756985   37.345950\n",
              "min     0.650000      0.000000    0.000000\n",
              "25%     1.370000      0.000000    0.000000\n",
              "50%     2.100000    573.000000    9.550000\n",
              "75%     3.050000   1426.000000   23.766667\n",
              "max    26.200000  15643.000000  260.716667"
            ]
          },
          "metadata": {},
          "execution_count": 34
        }
      ]
    },
    {
      "cell_type": "code",
      "metadata": {
        "colab": {
          "base_uri": "https://localhost:8080/",
          "height": 296
        },
        "id": "pVimV5X6QMHh",
        "outputId": "49586667-f0fa-406b-e8b3-110d1073571c"
      },
      "source": [
        "df.plot(x = 'Distancia', y = 'Minutos', kind = 'scatter')"
      ],
      "execution_count": 35,
      "outputs": [
        {
          "output_type": "execute_result",
          "data": {
            "text/plain": [
              "<matplotlib.axes._subplots.AxesSubplot at 0x7f4041eef290>"
            ]
          },
          "metadata": {},
          "execution_count": 35
        },
        {
          "output_type": "display_data",
          "data": {
            "image/png": "[encoded data removed]",
            "text/plain": [
              "<Figure size 432x288 with 1 Axes>"
            ]
          },
          "metadata": {
            "needs_background": "light"
          }
        }
      ]
    },
    {
      "cell_type": "code",
      "metadata": {
        "colab": {
          "base_uri": "https://localhost:8080/",
          "height": 143
        },
        "id": "x8-i31gTQMHh",
        "outputId": "f9ae05e3-b4e5-4255-d803-18c75b53aecd"
      },
      "source": [
        "# Analizando a correlação das variáveis \n",
        "df.corr()"
      ],
      "execution_count": 36,
      "outputs": [
        {
          "output_type": "execute_result",
          "data": {
            "text/html": [
              "<div>\n",
              "<style scoped>\n",
              "    .dataframe tbody tr th:only-of-type {\n",
              "        vertical-align: middle;\n",
              "    }\n",
              "\n",
              "    .dataframe tbody tr th {\n",
              "        vertical-align: top;\n",
              "    }\n",
              "\n",
              "    .dataframe thead th {\n",
              "        text-align: right;\n",
              "    }\n",
              "</style>\n",
              "<table border=\"1\" class=\"dataframe\">\n",
              "  <thead>\n",
              "    <tr style=\"text-align: right;\">\n",
              "      <th></th>\n",
              "      <th>Distancia</th>\n",
              "      <th>Segundos</th>\n",
              "      <th>Minutos</th>\n",
              "    </tr>\n",
              "  </thead>\n",
              "  <tbody>\n",
              "    <tr>\n",
              "      <th>Distancia</th>\n",
              "      <td>1.000000</td>\n",
              "      <td>0.997203</td>\n",
              "      <td>0.997203</td>\n",
              "    </tr>\n",
              "    <tr>\n",
              "      <th>Segundos</th>\n",
              "      <td>0.997203</td>\n",
              "      <td>1.000000</td>\n",
              "      <td>1.000000</td>\n",
              "    </tr>\n",
              "    <tr>\n",
              "      <th>Minutos</th>\n",
              "      <td>0.997203</td>\n",
              "      <td>1.000000</td>\n",
              "      <td>1.000000</td>\n",
              "    </tr>\n",
              "  </tbody>\n",
              "</table>\n",
              "</div>"
            ],
            "text/plain": [
              "           Distancia  Segundos   Minutos\n",
              "Distancia   1.000000  0.997203  0.997203\n",
              "Segundos    0.997203  1.000000  1.000000\n",
              "Minutos     0.997203  1.000000  1.000000"
            ]
          },
          "metadata": {},
          "execution_count": 36
        }
      ]
    },
    {
      "cell_type": "code",
      "metadata": {
        "colab": {
          "base_uri": "https://localhost:8080/",
          "height": 143
        },
        "id": "9_o-Yj-TQMHh",
        "outputId": "71b6199c-f3e9-4254-fe3d-64d6d488d408"
      },
      "source": [
        "df.corr(method = 'spearman')"
      ],
      "execution_count": 37,
      "outputs": [
        {
          "output_type": "execute_result",
          "data": {
            "text/html": [
              "<div>\n",
              "<style scoped>\n",
              "    .dataframe tbody tr th:only-of-type {\n",
              "        vertical-align: middle;\n",
              "    }\n",
              "\n",
              "    .dataframe tbody tr th {\n",
              "        vertical-align: top;\n",
              "    }\n",
              "\n",
              "    .dataframe thead th {\n",
              "        text-align: right;\n",
              "    }\n",
              "</style>\n",
              "<table border=\"1\" class=\"dataframe\">\n",
              "  <thead>\n",
              "    <tr style=\"text-align: right;\">\n",
              "      <th></th>\n",
              "      <th>Distancia</th>\n",
              "      <th>Segundos</th>\n",
              "      <th>Minutos</th>\n",
              "    </tr>\n",
              "  </thead>\n",
              "  <tbody>\n",
              "    <tr>\n",
              "      <th>Distancia</th>\n",
              "      <td>1.00000</td>\n",
              "      <td>0.96482</td>\n",
              "      <td>0.96482</td>\n",
              "    </tr>\n",
              "    <tr>\n",
              "      <th>Segundos</th>\n",
              "      <td>0.96482</td>\n",
              "      <td>1.00000</td>\n",
              "      <td>1.00000</td>\n",
              "    </tr>\n",
              "    <tr>\n",
              "      <th>Minutos</th>\n",
              "      <td>0.96482</td>\n",
              "      <td>1.00000</td>\n",
              "      <td>1.00000</td>\n",
              "    </tr>\n",
              "  </tbody>\n",
              "</table>\n",
              "</div>"
            ],
            "text/plain": [
              "           Distancia  Segundos  Minutos\n",
              "Distancia    1.00000   0.96482  0.96482\n",
              "Segundos     0.96482   1.00000  1.00000\n",
              "Minutos      0.96482   1.00000  1.00000"
            ]
          },
          "metadata": {},
          "execution_count": 37
        }
      ]
    },
    {
      "cell_type": "code",
      "metadata": {
        "colab": {
          "base_uri": "https://localhost:8080/",
          "height": 143
        },
        "id": "lKDa8t1uQMHh",
        "outputId": "22e7e11a-98b0-4530-fbaf-3bd94e063fe9"
      },
      "source": [
        "df.corr(method = 'kendall')"
      ],
      "execution_count": 38,
      "outputs": [
        {
          "output_type": "execute_result",
          "data": {
            "text/html": [
              "<div>\n",
              "<style scoped>\n",
              "    .dataframe tbody tr th:only-of-type {\n",
              "        vertical-align: middle;\n",
              "    }\n",
              "\n",
              "    .dataframe tbody tr th {\n",
              "        vertical-align: top;\n",
              "    }\n",
              "\n",
              "    .dataframe thead th {\n",
              "        text-align: right;\n",
              "    }\n",
              "</style>\n",
              "<table border=\"1\" class=\"dataframe\">\n",
              "  <thead>\n",
              "    <tr style=\"text-align: right;\">\n",
              "      <th></th>\n",
              "      <th>Distancia</th>\n",
              "      <th>Segundos</th>\n",
              "      <th>Minutos</th>\n",
              "    </tr>\n",
              "  </thead>\n",
              "  <tbody>\n",
              "    <tr>\n",
              "      <th>Distancia</th>\n",
              "      <td>1.00000</td>\n",
              "      <td>0.88305</td>\n",
              "      <td>0.88305</td>\n",
              "    </tr>\n",
              "    <tr>\n",
              "      <th>Segundos</th>\n",
              "      <td>0.88305</td>\n",
              "      <td>1.00000</td>\n",
              "      <td>1.00000</td>\n",
              "    </tr>\n",
              "    <tr>\n",
              "      <th>Minutos</th>\n",
              "      <td>0.88305</td>\n",
              "      <td>1.00000</td>\n",
              "      <td>1.00000</td>\n",
              "    </tr>\n",
              "  </tbody>\n",
              "</table>\n",
              "</div>"
            ],
            "text/plain": [
              "           Distancia  Segundos  Minutos\n",
              "Distancia    1.00000   0.88305  0.88305\n",
              "Segundos     0.88305   1.00000  1.00000\n",
              "Minutos      0.88305   1.00000  1.00000"
            ]
          },
          "metadata": {},
          "execution_count": 38
        }
      ]
    },
    {
      "cell_type": "code",
      "metadata": {
        "colab": {
          "base_uri": "https://localhost:8080/",
          "height": 282
        },
        "id": "vQVVU9JwQMHh",
        "outputId": "4e23accf-4bee-4e7e-b2e7-2beb1daba86e"
      },
      "source": [
        "df.boxplot('Minutos', return_type = 'axes')"
      ],
      "execution_count": 39,
      "outputs": [
        {
          "output_type": "execute_result",
          "data": {
            "text/plain": [
              "<matplotlib.axes._subplots.AxesSubplot at 0x7f40344baf90>"
            ]
          },
          "metadata": {},
          "execution_count": 39
        },
        {
          "output_type": "display_data",
          "data": {
            "image/png": "[encoded data removed]",
            "text/plain": [
              "<Figure size 432x288 with 1 Axes>"
            ]
          },
          "metadata": {
            "needs_background": "light"
          }
        }
      ]
    },
    {
      "cell_type": "code",
      "metadata": {
        "collapsed": true,
        "id": "4iYydrwLQMHi"
      },
      "source": [
        "df['Min_Por_Km'] = df['Minutos'] / df['Distancia']"
      ],
      "execution_count": 42,
      "outputs": []
    },
    {
      "cell_type": "code",
      "metadata": {
        "colab": {
          "base_uri": "https://localhost:8080/"
        },
        "id": "NffWg8gBQMHi",
        "outputId": "ee4037ff-3ea7-478b-e1e9-bee407adec2a"
      },
      "source": [
        "df.head"
      ],
      "execution_count": 44,
      "outputs": [
        {
          "output_type": "execute_result",
          "data": {
            "text/plain": [
              "<bound method NDFrame.head of             Distancia    Tempo  Segundos     Minutos  Min_Por_Km\n",
              "Data                                                            \n",
              "2015-08-02       1.70      NaN       NaN         NaN         NaN\n",
              "2015-08-03       1.40      NaN       NaN         NaN         NaN\n",
              "2015-08-04       2.10      NaN       NaN         NaN         NaN\n",
              "2015-08-06       2.38      NaN       NaN         NaN         NaN\n",
              "2015-08-07       2.30      NaN       NaN         NaN         NaN\n",
              "...               ...      ...       ...         ...         ...\n",
              "2015-12-24       3.05  0:25:08    1508.0   25.133333    8.240437\n",
              "2015-12-25      14.80  2:20:00    8400.0  140.000000    9.459459\n",
              "2015-12-26       5.20      NaN       NaN         NaN         NaN\n",
              "2015-12-30       3.15  0:22:10    1330.0   22.166667    7.037037\n",
              "2016-01-01      26.20  4:20:43   15643.0  260.716667    9.951018\n",
              "\n",
              "[81 rows x 5 columns]>"
            ]
          },
          "metadata": {},
          "execution_count": 44
        }
      ]
    },
    {
      "cell_type": "code",
      "metadata": {
        "colab": {
          "base_uri": "https://localhost:8080/",
          "height": 296
        },
        "id": "quYt6IzyQMHi",
        "outputId": "fcbfb476-b7de-4c0b-9e70-a64c9226515c"
      },
      "source": [
        "df.plot(x = 'Distancia', y = 'Min_Por_Km', kind = 'scatter')\n",
        "plt.ylabel(\"Minutos / Km\")"
      ],
      "execution_count": 45,
      "outputs": [
        {
          "output_type": "execute_result",
          "data": {
            "text/plain": [
              "Text(0, 0.5, 'Minutos / Km')"
            ]
          },
          "metadata": {},
          "execution_count": 45
        },
        {
          "output_type": "display_data",
          "data": {
            "image/png": "[encoded data removed]",
            "text/plain": [
              "<Figure size 432x288 with 1 Axes>"
            ]
          },
          "metadata": {
            "needs_background": "light"
          }
        }
      ]
    },
    {
      "cell_type": "code",
      "metadata": {
        "colab": {
          "base_uri": "https://localhost:8080/",
          "height": 316
        },
        "id": "DoeDIOHlQMHi",
        "outputId": "c142b159-6715-49e3-edbf-ce566728c778"
      },
      "source": [
        "df.hist('Min_Por_Km')"
      ],
      "execution_count": 46,
      "outputs": [
        {
          "output_type": "execute_result",
          "data": {
            "text/plain": [
              "array([[<matplotlib.axes._subplots.AxesSubplot object at 0x7f4030fe6cd0>]],\n",
              "      dtype=object)"
            ]
          },
          "metadata": {},
          "execution_count": 46
        },
        {
          "output_type": "display_data",
          "data": {
            "image/png": "[encoded data removed]",
            "text/plain": [
              "<Figure size 432x288 with 1 Axes>"
            ]
          },
          "metadata": {
            "needs_background": "light"
          }
        }
      ]
    },
    {
      "cell_type": "code",
      "metadata": {
        "id": "9kHK2FWsQMHi",
        "outputId": "5e0d84cc-d11f-4ce6-80f6-ac3c90430eba"
      },
      "source": [
        "df.hist('Min_Por_Km', bins = 20)"
      ],
      "execution_count": null,
      "outputs": [
        {
          "data": {
            "text/plain": [
              "array([[<matplotlib.axes._subplots.AxesSubplot object at 0x11c8d3ef0>]], dtype=object)"
            ]
          },
          "execution_count": 30,
          "metadata": {},
          "output_type": "execute_result"
        },
        {
          "data": {
            "image/png": "[encoded data removed]",
            "text/plain": [
              "<matplotlib.figure.Figure at 0x11a8641d0>"
            ]
          },
          "metadata": {},
          "output_type": "display_data"
        }
      ]
    },
    {
      "cell_type": "code",
      "metadata": {
        "colab": {
          "base_uri": "https://localhost:8080/",
          "height": 499
        },
        "id": "TcmfKw0IQMHi",
        "outputId": "5e7cf6d7-09ef-459b-8fa2-311ac97ae403"
      },
      "source": [
        "df.hist('Min_Por_Km', bins = 20, figsize = (10, 8))\n",
        "plt.xlim((5, 11))\n",
        "plt.ylim((0, 12))\n",
        "plt.title(\"Histograma Minutos Por Km\")\n",
        "plt.grid(False)\n",
        "plt.savefig('hist_minutos_por_km.png')"
      ],
      "execution_count": 47,
      "outputs": [
        {
          "output_type": "display_data",
          "data": {
            "image/png": "[encoded data removed]",
            "text/plain": [
              "<Figure size 720x576 with 1 Axes>"
            ]
          },
          "metadata": {
            "needs_background": "light"
          }
        }
      ]
    },
    {
      "cell_type": "code",
      "metadata": {
        "colab": {
          "base_uri": "https://localhost:8080/",
          "height": 294
        },
        "id": "Jd_3B8LPQMHj",
        "outputId": "4b27367b-368b-4676-a165-92236f1011c5"
      },
      "source": [
        "df['Distancia'].plot()"
      ],
      "execution_count": 48,
      "outputs": [
        {
          "output_type": "execute_result",
          "data": {
            "text/plain": [
              "<matplotlib.axes._subplots.AxesSubplot at 0x7f4030248dd0>"
            ]
          },
          "metadata": {},
          "execution_count": 48
        },
        {
          "output_type": "display_data",
          "data": {
            "image/png": "[encoded data removed]",
            "text/plain": [
              "<Figure size 432x288 with 1 Axes>"
            ]
          },
          "metadata": {
            "needs_background": "light"
          }
        }
      ]
    },
    {
      "cell_type": "code",
      "metadata": {
        "colab": {
          "base_uri": "https://localhost:8080/",
          "height": 294
        },
        "id": "Itp3Uy8bQMHj",
        "outputId": "bed83d6b-2574-4f35-c457-d3c6f158771a"
      },
      "source": [
        "df['Distancia'].plot()\n",
        "pd.Series(df['Distancia']).rolling(window=20).mean().plot() # Criando uma média móvel de 20 períodos"
      ],
      "execution_count": 54,
      "outputs": [
        {
          "output_type": "execute_result",
          "data": {
            "text/plain": [
              "<matplotlib.axes._subplots.AxesSubplot at 0x7f402eb8cc90>"
            ]
          },
          "metadata": {},
          "execution_count": 54
        },
        {
          "output_type": "display_data",
          "data": {
            "image/png": "[encoded data removed]",
            "text/plain": [
              "<Figure size 432x288 with 1 Axes>"
            ]
          },
          "metadata": {
            "needs_background": "light"
          }
        }
      ]
    },
    {
      "cell_type": "code",
      "metadata": {
        "colab": {
          "base_uri": "https://localhost:8080/",
          "height": 294
        },
        "id": "Olc3eHZfQMHj",
        "outputId": "f07d6906-4568-4629-e092-5a1590d75f4f"
      },
      "source": [
        "df['Distancia'].plot()\n",
        "pd.Series(df['Distancia']).rolling(window=20).std().plot() # Desvio padrão "
      ],
      "execution_count": 56,
      "outputs": [
        {
          "output_type": "execute_result",
          "data": {
            "text/plain": [
              "<matplotlib.axes._subplots.AxesSubplot at 0x7f402eae51d0>"
            ]
          },
          "metadata": {},
          "execution_count": 56
        },
        {
          "output_type": "display_data",
          "data": {
            "image/png": "[encoded data removed]",
            "text/plain": [
              "<Figure size 432x288 with 1 Axes>"
            ]
          },
          "metadata": {
            "needs_background": "light"
          }
        }
      ]
    },
    {
      "cell_type": "code",
      "metadata": {
        "colab": {
          "base_uri": "https://localhost:8080/",
          "height": 294
        },
        "id": "EJl3apBaQMHj",
        "outputId": "c7ebcc19-78e1-4525-9db4-85a6de8a20d3"
      },
      "source": [
        "df['Distancia'].plot()\n",
        "pd.Series(df['Distancia']).rolling(window=7).sum().plot()"
      ],
      "execution_count": 65,
      "outputs": [
        {
          "output_type": "execute_result",
          "data": {
            "text/plain": [
              "<matplotlib.axes._subplots.AxesSubplot at 0x7f402e7e3410>"
            ]
          },
          "metadata": {},
          "execution_count": 65
        },
        {
          "output_type": "display_data",
          "data": {
            "image/png": "[encoded data removed]",
            "text/plain": [
              "<Figure size 432x288 with 1 Axes>"
            ]
          },
          "metadata": {
            "needs_background": "light"
          }
        }
      ]
    },
    {
      "cell_type": "code",
      "metadata": {
        "colab": {
          "base_uri": "https://localhost:8080/"
        },
        "id": "PExv9-lUQMHk",
        "outputId": "7f9652a7-950e-4441-85e3-66396f6f8e46"
      },
      "source": [
        "df.index"
      ],
      "execution_count": 66,
      "outputs": [
        {
          "output_type": "execute_result",
          "data": {
            "text/plain": [
              "DatetimeIndex(['2015-08-02', '2015-08-03', '2015-08-04', '2015-08-06',\n",
              "               '2015-08-07', '2015-08-08', '2015-08-09', '2015-08-10',\n",
              "               '2015-08-11', '2015-08-12', '2015-08-13', '2015-08-14',\n",
              "               '2015-08-14', '2015-08-15', '2015-08-16', '2015-08-17',\n",
              "               '2015-08-18', '2015-08-19', '2015-08-19', '2015-08-20',\n",
              "               '2015-08-21', '2015-08-22', '2015-08-23', '2015-08-24',\n",
              "               '2015-08-25', '2015-08-25', '2015-08-26', '2015-08-27',\n",
              "               '2015-08-29', '2015-09-02', '2015-09-04', '2015-09-05',\n",
              "               '2015-09-08', '2015-09-10', '2015-09-12', '2015-09-16',\n",
              "               '2015-09-17', '2015-09-19', '2015-09-21', '2015-09-28',\n",
              "               '2015-09-28', '2015-09-29', '2015-10-04', '2015-10-04',\n",
              "               '2015-10-04', '2015-10-12', '2015-10-14', '2015-10-18',\n",
              "               '2015-10-18', '2015-10-18', '2015-10-20', '2015-10-25',\n",
              "               '2015-10-31', '2015-11-02', '2015-11-03', '2015-11-04',\n",
              "               '2015-11-07', '2015-11-07', '2015-11-07', '2015-11-09',\n",
              "               '2015-11-10', '2015-11-10', '2015-11-10', '2015-11-23',\n",
              "               '2015-11-27', '2015-11-28', '2015-12-09', '2015-12-12',\n",
              "               '2015-12-13', '2015-12-13', '2015-12-15', '2015-12-17',\n",
              "               '2015-12-19', '2015-12-20', '2015-12-22', '2015-12-23',\n",
              "               '2015-12-24', '2015-12-25', '2015-12-26', '2015-12-30',\n",
              "               '2016-01-01'],\n",
              "              dtype='datetime64[ns]', name='Data', freq=None)"
            ]
          },
          "metadata": {},
          "execution_count": 66
        }
      ]
    },
    {
      "cell_type": "code",
      "metadata": {
        "colab": {
          "base_uri": "https://localhost:8080/",
          "height": 614
        },
        "id": "qMTOWgOWQMHk",
        "outputId": "3b5d6cdc-1bd1-4091-ddce-b751c47b1792"
      },
      "source": [
        "# Definindo o intervalo dos dados (usando o indice Data)\n",
        "df['2015-11-20':'2015-12']"
      ],
      "execution_count": 68,
      "outputs": [
        {
          "output_type": "execute_result",
          "data": {
            "text/html": [
              "<div>\n",
              "<style scoped>\n",
              "    .dataframe tbody tr th:only-of-type {\n",
              "        vertical-align: middle;\n",
              "    }\n",
              "\n",
              "    .dataframe tbody tr th {\n",
              "        vertical-align: top;\n",
              "    }\n",
              "\n",
              "    .dataframe thead th {\n",
              "        text-align: right;\n",
              "    }\n",
              "</style>\n",
              "<table border=\"1\" class=\"dataframe\">\n",
              "  <thead>\n",
              "    <tr style=\"text-align: right;\">\n",
              "      <th></th>\n",
              "      <th>Distancia</th>\n",
              "      <th>Tempo</th>\n",
              "      <th>Segundos</th>\n",
              "      <th>Minutos</th>\n",
              "      <th>Min_Por_Km</th>\n",
              "    </tr>\n",
              "    <tr>\n",
              "      <th>Data</th>\n",
              "      <th></th>\n",
              "      <th></th>\n",
              "      <th></th>\n",
              "      <th></th>\n",
              "      <th></th>\n",
              "    </tr>\n",
              "  </thead>\n",
              "  <tbody>\n",
              "    <tr>\n",
              "      <th>2015-11-23</th>\n",
              "      <td>3.05</td>\n",
              "      <td>0:22:35</td>\n",
              "      <td>1355.0</td>\n",
              "      <td>22.583333</td>\n",
              "      <td>7.404372</td>\n",
              "    </tr>\n",
              "    <tr>\n",
              "      <th>2015-11-27</th>\n",
              "      <td>1.00</td>\n",
              "      <td>NaN</td>\n",
              "      <td>NaN</td>\n",
              "      <td>NaN</td>\n",
              "      <td>NaN</td>\n",
              "    </tr>\n",
              "    <tr>\n",
              "      <th>2015-11-28</th>\n",
              "      <td>3.00</td>\n",
              "      <td>NaN</td>\n",
              "      <td>NaN</td>\n",
              "      <td>NaN</td>\n",
              "      <td>NaN</td>\n",
              "    </tr>\n",
              "    <tr>\n",
              "      <th>2015-12-09</th>\n",
              "      <td>2.93</td>\n",
              "      <td>0:25:00</td>\n",
              "      <td>1500.0</td>\n",
              "      <td>25.000000</td>\n",
              "      <td>8.532423</td>\n",
              "    </tr>\n",
              "    <tr>\n",
              "      <th>2015-12-12</th>\n",
              "      <td>1.37</td>\n",
              "      <td>0:09:15</td>\n",
              "      <td>555.0</td>\n",
              "      <td>9.250000</td>\n",
              "      <td>6.751825</td>\n",
              "    </tr>\n",
              "    <tr>\n",
              "      <th>2015-12-13</th>\n",
              "      <td>5.30</td>\n",
              "      <td>0:43:36</td>\n",
              "      <td>2616.0</td>\n",
              "      <td>43.600000</td>\n",
              "      <td>8.226415</td>\n",
              "    </tr>\n",
              "    <tr>\n",
              "      <th>2015-12-13</th>\n",
              "      <td>2.21</td>\n",
              "      <td>0:18:59</td>\n",
              "      <td>1139.0</td>\n",
              "      <td>18.983333</td>\n",
              "      <td>8.589744</td>\n",
              "    </tr>\n",
              "    <tr>\n",
              "      <th>2015-12-15</th>\n",
              "      <td>6.50</td>\n",
              "      <td>0:58:43</td>\n",
              "      <td>3523.0</td>\n",
              "      <td>58.716667</td>\n",
              "      <td>9.033333</td>\n",
              "    </tr>\n",
              "    <tr>\n",
              "      <th>2015-12-17</th>\n",
              "      <td>12.00</td>\n",
              "      <td>1:39:00</td>\n",
              "      <td>5940.0</td>\n",
              "      <td>99.000000</td>\n",
              "      <td>8.250000</td>\n",
              "    </tr>\n",
              "    <tr>\n",
              "      <th>2015-12-19</th>\n",
              "      <td>3.10</td>\n",
              "      <td>0:26:15</td>\n",
              "      <td>1575.0</td>\n",
              "      <td>26.250000</td>\n",
              "      <td>8.467742</td>\n",
              "    </tr>\n",
              "    <tr>\n",
              "      <th>2015-12-20</th>\n",
              "      <td>14.80</td>\n",
              "      <td>2:15:00</td>\n",
              "      <td>8100.0</td>\n",
              "      <td>135.000000</td>\n",
              "      <td>9.121622</td>\n",
              "    </tr>\n",
              "    <tr>\n",
              "      <th>2015-12-22</th>\n",
              "      <td>3.10</td>\n",
              "      <td>0:28:00</td>\n",
              "      <td>1680.0</td>\n",
              "      <td>28.000000</td>\n",
              "      <td>9.032258</td>\n",
              "    </tr>\n",
              "    <tr>\n",
              "      <th>2015-12-23</th>\n",
              "      <td>5.63</td>\n",
              "      <td>0:51:50</td>\n",
              "      <td>3110.0</td>\n",
              "      <td>51.833333</td>\n",
              "      <td>9.206631</td>\n",
              "    </tr>\n",
              "    <tr>\n",
              "      <th>2015-12-24</th>\n",
              "      <td>3.05</td>\n",
              "      <td>0:25:08</td>\n",
              "      <td>1508.0</td>\n",
              "      <td>25.133333</td>\n",
              "      <td>8.240437</td>\n",
              "    </tr>\n",
              "    <tr>\n",
              "      <th>2015-12-25</th>\n",
              "      <td>14.80</td>\n",
              "      <td>2:20:00</td>\n",
              "      <td>8400.0</td>\n",
              "      <td>140.000000</td>\n",
              "      <td>9.459459</td>\n",
              "    </tr>\n",
              "    <tr>\n",
              "      <th>2015-12-26</th>\n",
              "      <td>5.20</td>\n",
              "      <td>NaN</td>\n",
              "      <td>NaN</td>\n",
              "      <td>NaN</td>\n",
              "      <td>NaN</td>\n",
              "    </tr>\n",
              "    <tr>\n",
              "      <th>2015-12-30</th>\n",
              "      <td>3.15</td>\n",
              "      <td>0:22:10</td>\n",
              "      <td>1330.0</td>\n",
              "      <td>22.166667</td>\n",
              "      <td>7.037037</td>\n",
              "    </tr>\n",
              "  </tbody>\n",
              "</table>\n",
              "</div>"
            ],
            "text/plain": [
              "            Distancia    Tempo  Segundos     Minutos  Min_Por_Km\n",
              "Data                                                            \n",
              "2015-11-23       3.05  0:22:35    1355.0   22.583333    7.404372\n",
              "2015-11-27       1.00      NaN       NaN         NaN         NaN\n",
              "2015-11-28       3.00      NaN       NaN         NaN         NaN\n",
              "2015-12-09       2.93  0:25:00    1500.0   25.000000    8.532423\n",
              "2015-12-12       1.37  0:09:15     555.0    9.250000    6.751825\n",
              "2015-12-13       5.30  0:43:36    2616.0   43.600000    8.226415\n",
              "2015-12-13       2.21  0:18:59    1139.0   18.983333    8.589744\n",
              "2015-12-15       6.50  0:58:43    3523.0   58.716667    9.033333\n",
              "2015-12-17      12.00  1:39:00    5940.0   99.000000    8.250000\n",
              "2015-12-19       3.10  0:26:15    1575.0   26.250000    8.467742\n",
              "2015-12-20      14.80  2:15:00    8100.0  135.000000    9.121622\n",
              "2015-12-22       3.10  0:28:00    1680.0   28.000000    9.032258\n",
              "2015-12-23       5.63  0:51:50    3110.0   51.833333    9.206631\n",
              "2015-12-24       3.05  0:25:08    1508.0   25.133333    8.240437\n",
              "2015-12-25      14.80  2:20:00    8400.0  140.000000    9.459459\n",
              "2015-12-26       5.20      NaN       NaN         NaN         NaN\n",
              "2015-12-30       3.15  0:22:10    1330.0   22.166667    7.037037"
            ]
          },
          "metadata": {},
          "execution_count": 68
        }
      ]
    },
    {
      "cell_type": "code",
      "metadata": {
        "colab": {
          "base_uri": "https://localhost:8080/",
          "height": 302
        },
        "id": "BA746o8lQMHk",
        "outputId": "e3d518f8-8a65-4375-c8a6-e9a0d4bab4c3"
      },
      "source": [
        "df['2015-11':'2016-1-1']['Distancia'].plot()"
      ],
      "execution_count": 69,
      "outputs": [
        {
          "output_type": "execute_result",
          "data": {
            "text/plain": [
              "<matplotlib.axes._subplots.AxesSubplot at 0x7f402eda4990>"
            ]
          },
          "metadata": {},
          "execution_count": 69
        },
        {
          "output_type": "display_data",
          "data": {
            "image/png": "[encoded data removed]",
            "text/plain": [
              "<Figure size 432x288 with 1 Axes>"
            ]
          },
          "metadata": {
            "needs_background": "light"
          }
        }
      ]
    },
    {
      "cell_type": "code",
      "metadata": {
        "colab": {
          "base_uri": "https://localhost:8080/",
          "height": 488
        },
        "id": "79jMD79KZ4al",
        "outputId": "79fc2dcc-56bc-4bb7-ce0a-6e578e44eb05"
      },
      "source": [
        "# Filtrando o df por condição de determinada coluna\n",
        "df[df['Minutos'] > 30]"
      ],
      "execution_count": 83,
      "outputs": [
        {
          "output_type": "execute_result",
          "data": {
            "text/html": [
              "<div>\n",
              "<style scoped>\n",
              "    .dataframe tbody tr th:only-of-type {\n",
              "        vertical-align: middle;\n",
              "    }\n",
              "\n",
              "    .dataframe tbody tr th {\n",
              "        vertical-align: top;\n",
              "    }\n",
              "\n",
              "    .dataframe thead th {\n",
              "        text-align: right;\n",
              "    }\n",
              "</style>\n",
              "<table border=\"1\" class=\"dataframe\">\n",
              "  <thead>\n",
              "    <tr style=\"text-align: right;\">\n",
              "      <th></th>\n",
              "      <th>Distancia</th>\n",
              "      <th>Tempo</th>\n",
              "      <th>Segundos</th>\n",
              "      <th>Minutos</th>\n",
              "      <th>Min_Por_Km</th>\n",
              "    </tr>\n",
              "    <tr>\n",
              "      <th>Data</th>\n",
              "      <th></th>\n",
              "      <th></th>\n",
              "      <th></th>\n",
              "      <th></th>\n",
              "      <th></th>\n",
              "    </tr>\n",
              "  </thead>\n",
              "  <tbody>\n",
              "    <tr>\n",
              "      <th>2015-08-29</th>\n",
              "      <td>5.00</td>\n",
              "      <td>0:43:27</td>\n",
              "      <td>2607.0</td>\n",
              "      <td>43.450000</td>\n",
              "      <td>8.690000</td>\n",
              "    </tr>\n",
              "    <tr>\n",
              "      <th>2015-09-21</th>\n",
              "      <td>4.03</td>\n",
              "      <td>0:30:22</td>\n",
              "      <td>1822.0</td>\n",
              "      <td>30.366667</td>\n",
              "      <td>7.535153</td>\n",
              "    </tr>\n",
              "    <tr>\n",
              "      <th>2015-10-04</th>\n",
              "      <td>4.63</td>\n",
              "      <td>0:40:00</td>\n",
              "      <td>2400.0</td>\n",
              "      <td>40.000000</td>\n",
              "      <td>8.639309</td>\n",
              "    </tr>\n",
              "    <tr>\n",
              "      <th>2015-10-04</th>\n",
              "      <td>4.08</td>\n",
              "      <td>0:33:00</td>\n",
              "      <td>1980.0</td>\n",
              "      <td>33.000000</td>\n",
              "      <td>8.088235</td>\n",
              "    </tr>\n",
              "    <tr>\n",
              "      <th>2015-11-03</th>\n",
              "      <td>5.30</td>\n",
              "      <td>0:39:26</td>\n",
              "      <td>2366.0</td>\n",
              "      <td>39.433333</td>\n",
              "      <td>7.440252</td>\n",
              "    </tr>\n",
              "    <tr>\n",
              "      <th>2015-11-07</th>\n",
              "      <td>5.63</td>\n",
              "      <td>0:49:05</td>\n",
              "      <td>2945.0</td>\n",
              "      <td>49.083333</td>\n",
              "      <td>8.718176</td>\n",
              "    </tr>\n",
              "    <tr>\n",
              "      <th>2015-12-13</th>\n",
              "      <td>5.30</td>\n",
              "      <td>0:43:36</td>\n",
              "      <td>2616.0</td>\n",
              "      <td>43.600000</td>\n",
              "      <td>8.226415</td>\n",
              "    </tr>\n",
              "    <tr>\n",
              "      <th>2015-12-15</th>\n",
              "      <td>6.50</td>\n",
              "      <td>0:58:43</td>\n",
              "      <td>3523.0</td>\n",
              "      <td>58.716667</td>\n",
              "      <td>9.033333</td>\n",
              "    </tr>\n",
              "    <tr>\n",
              "      <th>2015-12-17</th>\n",
              "      <td>12.00</td>\n",
              "      <td>1:39:00</td>\n",
              "      <td>5940.0</td>\n",
              "      <td>99.000000</td>\n",
              "      <td>8.250000</td>\n",
              "    </tr>\n",
              "    <tr>\n",
              "      <th>2015-12-20</th>\n",
              "      <td>14.80</td>\n",
              "      <td>2:15:00</td>\n",
              "      <td>8100.0</td>\n",
              "      <td>135.000000</td>\n",
              "      <td>9.121622</td>\n",
              "    </tr>\n",
              "    <tr>\n",
              "      <th>2015-12-23</th>\n",
              "      <td>5.63</td>\n",
              "      <td>0:51:50</td>\n",
              "      <td>3110.0</td>\n",
              "      <td>51.833333</td>\n",
              "      <td>9.206631</td>\n",
              "    </tr>\n",
              "    <tr>\n",
              "      <th>2015-12-25</th>\n",
              "      <td>14.80</td>\n",
              "      <td>2:20:00</td>\n",
              "      <td>8400.0</td>\n",
              "      <td>140.000000</td>\n",
              "      <td>9.459459</td>\n",
              "    </tr>\n",
              "    <tr>\n",
              "      <th>2016-01-01</th>\n",
              "      <td>26.20</td>\n",
              "      <td>4:20:43</td>\n",
              "      <td>15643.0</td>\n",
              "      <td>260.716667</td>\n",
              "      <td>9.951018</td>\n",
              "    </tr>\n",
              "  </tbody>\n",
              "</table>\n",
              "</div>"
            ],
            "text/plain": [
              "            Distancia    Tempo  Segundos     Minutos  Min_Por_Km\n",
              "Data                                                            \n",
              "2015-08-29       5.00  0:43:27    2607.0   43.450000    8.690000\n",
              "2015-09-21       4.03  0:30:22    1822.0   30.366667    7.535153\n",
              "2015-10-04       4.63  0:40:00    2400.0   40.000000    8.639309\n",
              "2015-10-04       4.08  0:33:00    1980.0   33.000000    8.088235\n",
              "2015-11-03       5.30  0:39:26    2366.0   39.433333    7.440252\n",
              "2015-11-07       5.63  0:49:05    2945.0   49.083333    8.718176\n",
              "2015-12-13       5.30  0:43:36    2616.0   43.600000    8.226415\n",
              "2015-12-15       6.50  0:58:43    3523.0   58.716667    9.033333\n",
              "2015-12-17      12.00  1:39:00    5940.0   99.000000    8.250000\n",
              "2015-12-20      14.80  2:15:00    8100.0  135.000000    9.121622\n",
              "2015-12-23       5.63  0:51:50    3110.0   51.833333    9.206631\n",
              "2015-12-25      14.80  2:20:00    8400.0  140.000000    9.459459\n",
              "2016-01-01      26.20  4:20:43   15643.0  260.716667    9.951018"
            ]
          },
          "metadata": {},
          "execution_count": 83
        }
      ]
    },
    {
      "cell_type": "code",
      "metadata": {
        "id": "OvZKMJ21QMHk"
      },
      "source": [
        "# Buscando um dia pelo índice e retornando suas variáveis em um serie pandas\n",
        "dia = df.loc['2015-8-12']"
      ],
      "execution_count": 86,
      "outputs": []
    }
  ]
}