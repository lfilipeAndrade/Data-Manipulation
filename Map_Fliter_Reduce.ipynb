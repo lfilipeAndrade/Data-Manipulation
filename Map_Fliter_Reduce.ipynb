{
  "nbformat": 4,
  "nbformat_minor": 0,
  "metadata": {
    "anaconda-cloud": {},
    "kernelspec": {
      "display_name": "Python 3",
      "language": "python",
      "name": "python3"
    },
    "language_info": {
      "codemirror_mode": {
        "name": "ipython",
        "version": 3
      },
      "file_extension": ".py",
      "mimetype": "text/x-python",
      "name": "python",
      "nbconvert_exporter": "python",
      "pygments_lexer": "ipython3",
      "version": "3.6.1"
    },
    "colab": {
      "name": "Map-Fliter-Reduce.ipynb",
      "provenance": [],
      "include_colab_link": true
    }
  },
  "cells": [
    {
      "cell_type": "markdown",
      "metadata": {
        "id": "view-in-github",
        "colab_type": "text"
      },
      "source": [
        "<a href=\"https://colab.research.google.com/github/lfilipeAndrade/Data-Manipulation/blob/main/Map_Fliter_Reduce.ipynb\" target=\"_parent\"><img src=\"https://colab.research.google.com/assets/colab-badge.svg\" alt=\"Open In Colab\"/></a>"
      ]
    },
    {
      "cell_type": "markdown",
      "metadata": {
        "id": "M8j8iejjLC55"
      },
      "source": [
        "## Map"
      ]
    },
    {
      "cell_type": "markdown",
      "metadata": {
        "id": "6rGsvM37LC55"
      },
      "source": [
        "A função map() faz basicamente o mapeamento de um valor para outro, quase como um objeto do tipo dicionário em Python. Este é um conceito de programação funcional, mas que pode ser útil em certas circunstâncias dentro do processo de análise de dados. Este é conceito fundamental de programação MapReduce, popular em tecnologias de processamento de Big Data, como Hadoop e Spark."
      ]
    },
    {
      "cell_type": "code",
      "metadata": {
        "collapsed": true,
        "id": "mj9jBGCnLC56"
      },
      "source": [
        "# Definindo um array com a função bulti-in range()\n",
        "array1 = range(0, 15)"
      ],
      "execution_count": 1,
      "outputs": []
    },
    {
      "cell_type": "code",
      "metadata": {
        "colab": {
          "base_uri": "https://localhost:8080/"
        },
        "id": "jjn5noBvLC57",
        "outputId": "a0080094-60c1-4155-ef85-6880a9f9568d"
      },
      "source": [
        "print(array1)"
      ],
      "execution_count": 2,
      "outputs": [
        {
          "output_type": "stream",
          "name": "stdout",
          "text": [
            "range(0, 15)\n"
          ]
        }
      ]
    },
    {
      "cell_type": "code",
      "metadata": {
        "colab": {
          "base_uri": "https://localhost:8080/"
        },
        "id": "OfwXiYOqLC58",
        "outputId": "f489882f-c9b3-43f8-aea7-58f6c3d568da"
      },
      "source": [
        "type(array1)"
      ],
      "execution_count": 3,
      "outputs": [
        {
          "output_type": "execute_result",
          "data": {
            "text/plain": [
              "range"
            ]
          },
          "metadata": {},
          "execution_count": 3
        }
      ]
    },
    {
      "cell_type": "code",
      "metadata": {
        "collapsed": true,
        "id": "BSTvMWbBLC59"
      },
      "source": [
        "# Criando um função para calcular o cubo de um número\n",
        "def calc_cubo(num):\n",
        "    return num ** 3"
      ],
      "execution_count": 4,
      "outputs": []
    },
    {
      "cell_type": "code",
      "metadata": {
        "colab": {
          "base_uri": "https://localhost:8080/"
        },
        "id": "3yZRntVtLC59",
        "outputId": "926bcc4c-2f1a-4310-8dd0-970ea571a57b"
      },
      "source": [
        "for elemento in array1:\n",
        "    print(calc_cubo(elemento))"
      ],
      "execution_count": 5,
      "outputs": [
        {
          "output_type": "stream",
          "name": "stdout",
          "text": [
            "0\n",
            "1\n",
            "8\n",
            "27\n",
            "64\n",
            "125\n",
            "216\n",
            "343\n",
            "512\n",
            "729\n",
            "1000\n",
            "1331\n",
            "1728\n",
            "2197\n",
            "2744\n"
          ]
        }
      ]
    },
    {
      "cell_type": "code",
      "metadata": {
        "collapsed": true,
        "id": "f61izPurLC5-"
      },
      "source": [
        "# Com a função map() aplicamos uma função a um conjunto de elementos\n",
        "lista_map_func = map(calc_cubo, array1)"
      ],
      "execution_count": 6,
      "outputs": []
    },
    {
      "cell_type": "code",
      "metadata": {
        "colab": {
          "base_uri": "https://localhost:8080/"
        },
        "id": "ymBqy1U8LC5_",
        "outputId": "1a4162c6-56e5-4f9d-d4f5-281878f15a07"
      },
      "source": [
        "# A função map() retorna um objeto iterable\n",
        "print(lista_map_func)"
      ],
      "execution_count": 7,
      "outputs": [
        {
          "output_type": "stream",
          "name": "stdout",
          "text": [
            "<map object at 0x7f0ed920f890>\n"
          ]
        }
      ]
    },
    {
      "cell_type": "code",
      "metadata": {
        "id": "moX58o_DLC5_",
        "outputId": "9d73578c-ed89-4381-a058-e952c90dd45f"
      },
      "source": [
        "# Precisamos converter a saída da função map() para uma lista, a fim de visualizar os resultados\n",
        "print(list(lista_map_func))"
      ],
      "execution_count": null,
      "outputs": [
        {
          "name": "stdout",
          "output_type": "stream",
          "text": [
            "[0, 1, 8, 27, 64, 125, 216, 343, 512, 729, 1000, 1331, 1728, 2197, 2744]\n"
          ]
        }
      ]
    },
    {
      "cell_type": "code",
      "metadata": {
        "collapsed": true,
        "id": "EUl7F-wtLC6A"
      },
      "source": [
        "# Com a função map() aplicamos uma função a um conjunto de elementos\n",
        "lista_map_func_2 = map(float, range(20)) "
      ],
      "execution_count": null,
      "outputs": []
    },
    {
      "cell_type": "code",
      "metadata": {
        "id": "t3dcYPQRLC6A",
        "outputId": "924173db-a5e8-4521-f9e6-1f0e60eebb45"
      },
      "source": [
        "lista_map_func_2"
      ],
      "execution_count": null,
      "outputs": [
        {
          "data": {
            "text/plain": [
              "<map at 0x105694630>"
            ]
          },
          "execution_count": 10,
          "metadata": {},
          "output_type": "execute_result"
        }
      ]
    },
    {
      "cell_type": "code",
      "metadata": {
        "id": "rRK4TLAgLC6A",
        "outputId": "c2a465ec-48b4-48fc-812a-1ccdef808561"
      },
      "source": [
        "print(list(lista_map_func_2))"
      ],
      "execution_count": null,
      "outputs": [
        {
          "name": "stdout",
          "output_type": "stream",
          "text": [
            "[0.0, 1.0, 2.0, 3.0, 4.0, 5.0, 6.0, 7.0, 8.0, 9.0, 10.0, 11.0, 12.0, 13.0, 14.0, 15.0, 16.0, 17.0, 18.0, 19.0]\n"
          ]
        }
      ]
    },
    {
      "cell_type": "code",
      "metadata": {
        "collapsed": true,
        "id": "TAFmVf2ZLC6B"
      },
      "source": [
        "from math import sqrt"
      ],
      "execution_count": null,
      "outputs": []
    },
    {
      "cell_type": "code",
      "metadata": {
        "id": "zJcvkcMoLC6B"
      },
      "source": [
        "array2 = list(array1)"
      ],
      "execution_count": null,
      "outputs": []
    },
    {
      "cell_type": "code",
      "metadata": {
        "id": "jwYjf6OzLC6B",
        "outputId": "637e76b7-d02f-4e0a-f350-c1b8f8106634"
      },
      "source": [
        "array2"
      ],
      "execution_count": null,
      "outputs": [
        {
          "data": {
            "text/plain": [
              "[0, 1, 2, 3, 4, 5, 6, 7, 8, 9, 10, 11, 12, 13, 14]"
            ]
          },
          "execution_count": 14,
          "metadata": {},
          "output_type": "execute_result"
        }
      ]
    },
    {
      "cell_type": "code",
      "metadata": {
        "id": "PHR8ubIzLC6C",
        "outputId": "9dbea8f7-c6a7-45a0-8e70-5e4d902d3807"
      },
      "source": [
        "print(list(map(sqrt, array2[0:5])))"
      ],
      "execution_count": null,
      "outputs": [
        {
          "name": "stdout",
          "output_type": "stream",
          "text": [
            "[0.0, 1.0, 1.4142135623730951, 1.7320508075688772, 2.0]\n"
          ]
        }
      ]
    },
    {
      "cell_type": "markdown",
      "metadata": {
        "id": "TN8DIi3kLC6C"
      },
      "source": [
        "## Filter"
      ]
    },
    {
      "cell_type": "markdown",
      "metadata": {
        "id": "Wmzakr64LC6C"
      },
      "source": [
        "A função filter() permite filtrar elementos de uma lista. Aplicamos uma função que retorna valores booleanos (True ou False). Retornamos os valores onde a expressão é True e filtramos os valores onde a expressão retorna False."
      ]
    },
    {
      "cell_type": "code",
      "metadata": {
        "collapsed": true,
        "id": "cEYpCkXcLC6D"
      },
      "source": [
        "# Definindo um array com a função bulti-in range()\n",
        "array1 = range(0, 15)"
      ],
      "execution_count": null,
      "outputs": []
    },
    {
      "cell_type": "code",
      "metadata": {
        "id": "SGiBuji_LC6D",
        "outputId": "4a935ed9-d5af-449f-ec73-1ab0c89ec1da"
      },
      "source": [
        "print(array1)"
      ],
      "execution_count": null,
      "outputs": [
        {
          "name": "stdout",
          "output_type": "stream",
          "text": [
            "range(0, 15)\n"
          ]
        }
      ]
    },
    {
      "cell_type": "code",
      "metadata": {
        "id": "gEUw_lZLLC6D",
        "outputId": "6f919660-400e-47ae-8534-ac15173df879"
      },
      "source": [
        "type(array1)"
      ],
      "execution_count": null,
      "outputs": [
        {
          "data": {
            "text/plain": [
              "range"
            ]
          },
          "execution_count": 18,
          "metadata": {},
          "output_type": "execute_result"
        }
      ]
    },
    {
      "cell_type": "code",
      "metadata": {
        "collapsed": true,
        "id": "0trfYWAoLC6D"
      },
      "source": [
        "# Criando um função para verificar se um número é par\n",
        "def verificaPar(num):\n",
        "    return num % 2 == 0"
      ],
      "execution_count": null,
      "outputs": []
    },
    {
      "cell_type": "code",
      "metadata": {
        "id": "MGtXzKOPLC6E",
        "outputId": "3123a0ac-539e-4c0f-b825-6eeeb8bf153b"
      },
      "source": [
        "verificaPar(190)"
      ],
      "execution_count": null,
      "outputs": [
        {
          "data": {
            "text/plain": [
              "True"
            ]
          },
          "execution_count": 20,
          "metadata": {},
          "output_type": "execute_result"
        }
      ]
    },
    {
      "cell_type": "code",
      "metadata": {
        "id": "pVd9EisMLC6E",
        "outputId": "4e86c982-20b5-4120-f857-60e25f6f9b92"
      },
      "source": [
        "verificaPar(191)"
      ],
      "execution_count": null,
      "outputs": [
        {
          "data": {
            "text/plain": [
              "False"
            ]
          },
          "execution_count": 21,
          "metadata": {},
          "output_type": "execute_result"
        }
      ]
    },
    {
      "cell_type": "code",
      "metadata": {
        "id": "qQlLRZ0nLC6E",
        "outputId": "523cdd59-71f6-4b1c-b6e7-d2e453cc8bf5"
      },
      "source": [
        "# Com a função map() aplicamos uma função a um conjunto de elementos\n",
        "list(map(verificaPar, array1))"
      ],
      "execution_count": null,
      "outputs": [
        {
          "data": {
            "text/plain": [
              "[True,\n",
              " False,\n",
              " True,\n",
              " False,\n",
              " True,\n",
              " False,\n",
              " True,\n",
              " False,\n",
              " True,\n",
              " False,\n",
              " True,\n",
              " False,\n",
              " True,\n",
              " False,\n",
              " True]"
            ]
          },
          "execution_count": 22,
          "metadata": {},
          "output_type": "execute_result"
        }
      ]
    },
    {
      "cell_type": "code",
      "metadata": {
        "id": "RbkNKbPjLC6E",
        "outputId": "53bda298-46c9-4f2d-a4c1-6f0193ef1aa4"
      },
      "source": [
        "# A função filter() retorna apenas os valores onde a expressão é igual a True, \n",
        "# filtrando os valores onde a expressão retorna False\n",
        "list(filter(verificaPar, array1))"
      ],
      "execution_count": null,
      "outputs": [
        {
          "data": {
            "text/plain": [
              "[0, 2, 4, 6, 8, 10, 12, 14]"
            ]
          },
          "execution_count": 23,
          "metadata": {},
          "output_type": "execute_result"
        }
      ]
    },
    {
      "cell_type": "code",
      "metadata": {
        "collapsed": true,
        "id": "6HdSkOrOLC6E"
      },
      "source": [
        "# Lista de frases\n",
        "lista_frases = [\"Big Data\", \n",
        "                \"Machine Learning em Big Data e Algoritmos em Big Data\", \n",
        "                \"Data Science e Big Data\", \n",
        "                \"Big Data e Internet das Coisas\",\n",
        "                \"Big Data está revolucionando o mundo, pois Big Data é um grande volume de dados\"]"
      ],
      "execution_count": null,
      "outputs": []
    },
    {
      "cell_type": "code",
      "metadata": {
        "collapsed": true,
        "id": "fxLOA2OwLC6F"
      },
      "source": [
        "# Criando uma função\n",
        "def testa_BigData(frase):\n",
        "    return frase.count(\"Big Data\") >= 2"
      ],
      "execution_count": null,
      "outputs": []
    },
    {
      "cell_type": "code",
      "metadata": {
        "id": "0daxuuTcLC6F",
        "outputId": "f749d939-7953-481b-f8a0-334394be64bb"
      },
      "source": [
        "# Aplicando a função filter()\n",
        "list(filter(testa_BigData, lista_frases))"
      ],
      "execution_count": null,
      "outputs": [
        {
          "data": {
            "text/plain": [
              "['Machine Learning em Big Data e Algoritmos em Big Data',\n",
              " 'Big Data está revolucionando o mundo, pois Big Data é um grande volume de dados']"
            ]
          },
          "execution_count": 26,
          "metadata": {},
          "output_type": "execute_result"
        }
      ]
    },
    {
      "cell_type": "code",
      "metadata": {
        "id": "B3YDnaDhLC6F",
        "outputId": "4f1cfbe0-0e4a-4b62-8143-13200f1ef9fb"
      },
      "source": [
        "# Aplicando a função map()\n",
        "list(map(testa_BigData, lista_frases))"
      ],
      "execution_count": null,
      "outputs": [
        {
          "data": {
            "text/plain": [
              "[False, True, False, False, True]"
            ]
          },
          "execution_count": 27,
          "metadata": {},
          "output_type": "execute_result"
        }
      ]
    },
    {
      "cell_type": "markdown",
      "metadata": {
        "id": "1HkmIpQhLC6F"
      },
      "source": [
        "## Reduce"
      ]
    },
    {
      "cell_type": "markdown",
      "metadata": {
        "id": "DUnyQjkjLC6F"
      },
      "source": [
        "A função reduce() aplica uma função a uma sequência de elementos, até reduzir a sequência a um único elemento"
      ]
    },
    {
      "cell_type": "code",
      "metadata": {
        "collapsed": true,
        "id": "X-rmzubFLC6G"
      },
      "source": [
        "from functools import reduce"
      ],
      "execution_count": null,
      "outputs": []
    },
    {
      "cell_type": "code",
      "metadata": {
        "id": "8XrCe4wzLC6G"
      },
      "source": [
        "soma = reduce((lambda x, y: x + y), [1, 2, 3, 4])"
      ],
      "execution_count": null,
      "outputs": []
    },
    {
      "cell_type": "code",
      "metadata": {
        "id": "Qi0DDq6MLC6G",
        "outputId": "e6b7e881-76b6-409b-c7ac-4f12b5295d2d"
      },
      "source": [
        "soma"
      ],
      "execution_count": null,
      "outputs": [
        {
          "data": {
            "text/plain": [
              "10"
            ]
          },
          "execution_count": 30,
          "metadata": {},
          "output_type": "execute_result"
        }
      ]
    }
  ]
}